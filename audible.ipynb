{
 "cells": [
  {
   "metadata": {},
   "cell_type": "markdown",
   "source": [
    "<h1 style=\"text-align: center;\">Analysis of Audiobooks</h1>\n",
    "<h2 style=\"text-align: center;\">Spring 2024 Data Science Project</h2>\n",
    "<h2 style=\"text-align: center;\">Yixiang Wu</h2>"
   ]
  },
  {
   "metadata": {},
   "cell_type": "markdown",
   "source": "Member 1: Yixiang Wu, Contribution: 100%"
  },
  {
   "metadata": {},
   "cell_type": "markdown",
   "source": "Yixiang Wu: The code and documentation for this project are written entirely by me."
  },
  {
   "metadata": {},
   "cell_type": "markdown",
   "source": "<h1 style=\"text-align: center;\">Introduction</h1>"
  },
  {
   "metadata": {},
   "cell_type": "markdown",
   "source": "As the audiobook market has experienced rapid growth recently, this project aims to explore audiobooks and predict their pricing based on different key audiobook features. By knowing predicted audiobook prices, we could understand factors that influence audiobook costs. This helps consumers to make better decisions at purchase, allows authors and narrators to apply better pricing strategies, and lets the industry improve its platform, forecast demand, and adapt to consumer preferences."
  },
  {
   "metadata": {},
   "cell_type": "markdown",
   "source": "<h1 style=\"text-align: center;\">Data Curation</h1>"
  },
  {
   "metadata": {},
   "cell_type": "markdown",
   "source": "The data was collected from https://www.audible.com. To accomplish such task, a modified version of the script from https://www.github.com/snehangsude/audible_scraper was used. A dataset gathered via this original script is available at https://www.kaggle.com/datasets/snehangsude/audible-dataset. However, the original script is out-of-date and collects data from Audible in India. I updated the script and allowed it to collect data from Audible in the U.S. The uncleaned data gathered via my script is saved as 'audible_uncleaned.csv' and will be loaded later."
  },
  {
   "cell_type": "markdown",
   "metadata": {
    "collapsed": false
   },
   "source": [
    "### Imports"
   ]
  },
  {
   "cell_type": "code",
   "metadata": {
    "ExecuteTime": {
     "end_time": "2024-05-08T02:45:56.967200Z",
     "start_time": "2024-05-08T02:45:56.580651Z"
    }
   },
   "source": [
    "import matplotlib.pyplot as plt\n",
    "import numpy as np\n",
    "import pandas as pd\n",
    "import re\n",
    "import seaborn as sns\n",
    "\n",
    "from collections import Counter\n",
    "from datetime import timedelta\n",
    "from scipy.stats import pearsonr, ttest_ind\n",
    "from sklearn.ensemble import RandomForestRegressor\n",
    "from sklearn.linear_model import ARDRegression, BayesianRidge, ElasticNet, Lasso, LinearRegression, Ridge\n",
    "from sklearn.metrics import mean_squared_error, r2_score\n",
    "from sklearn.model_selection import train_test_split\n",
    "from sklearn.neighbors import KNeighborsRegressor\n",
    "from sklearn.pipeline import make_pipeline\n",
    "from sklearn.preprocessing import PolynomialFeatures, StandardScaler\n",
    "from sklearn.svm import SVR\n",
    "from sklearn.tree import DecisionTreeRegressor\n",
    "from tqdm import tqdm\n",
    "\n",
    "from preprocess_and_exploration import data_folder"
   ],
   "outputs": [],
   "execution_count": 1
  },
  {
   "cell_type": "markdown",
   "metadata": {},
   "source": [
    "## Load Dataset"
   ]
  },
  {
   "cell_type": "code",
   "metadata": {
    "ExecuteTime": {
     "end_time": "2024-05-08T02:45:57.077573Z",
     "start_time": "2024-05-08T02:45:56.968684Z"
    }
   },
   "source": [
    "audible_data = pd.read_csv(data_folder + '/audible_uncleaned.csv')\n",
    "audible_data.head()"
   ],
   "outputs": [
    {
     "data": {
      "text/plain": [
       "                                                name               author  \\\n",
       "0                                            At Home      By: Bill Bryson   \n",
       "1                                          Preserved  By: Dean G. Lampros   \n",
       "2                                             Venice    By: Dennis Romano   \n",
       "3  Elevating Construction Senior Superintendents,...  By: Jason Schroeder   \n",
       "4                                            Castles      By: Marc Morris   \n",
       "\n",
       "                      narrator                time             releasedate  \\\n",
       "0     Narrated by: Bill Bryson  16 hrs and 33 mins  Release date: 10-05-10   \n",
       "1       Narrated by: Al Kessel  11 hrs and 10 mins  Release date: 03-26-24   \n",
       "2   Narrated by: David Colacci  30 hrs and 45 mins  Release date: 02-27-24   \n",
       "3  Narrated by: Kate Schroeder   7 hrs and 24 mins  Release date: 03-08-24   \n",
       "4   Narrated by: Derek Perkins   9 hrs and 18 mins  Release date: 04-04-17   \n",
       "\n",
       "  language                            stars  price  \n",
       "0  English  4.5 out of 5 stars6,439 ratings  22.50  \n",
       "1  English                    Not rated yet  21.49  \n",
       "2  English        4 out of 5 stars4 ratings  30.09  \n",
       "3  English                    Not rated yet  14.99  \n",
       "4  English     4.5 out of 5 stars64 ratings  15.47  "
      ],
      "text/html": [
       "<div>\n",
       "<style scoped>\n",
       "    .dataframe tbody tr th:only-of-type {\n",
       "        vertical-align: middle;\n",
       "    }\n",
       "\n",
       "    .dataframe tbody tr th {\n",
       "        vertical-align: top;\n",
       "    }\n",
       "\n",
       "    .dataframe thead th {\n",
       "        text-align: right;\n",
       "    }\n",
       "</style>\n",
       "<table border=\"1\" class=\"dataframe\">\n",
       "  <thead>\n",
       "    <tr style=\"text-align: right;\">\n",
       "      <th></th>\n",
       "      <th>name</th>\n",
       "      <th>author</th>\n",
       "      <th>narrator</th>\n",
       "      <th>time</th>\n",
       "      <th>releasedate</th>\n",
       "      <th>language</th>\n",
       "      <th>stars</th>\n",
       "      <th>price</th>\n",
       "    </tr>\n",
       "  </thead>\n",
       "  <tbody>\n",
       "    <tr>\n",
       "      <th>0</th>\n",
       "      <td>At Home</td>\n",
       "      <td>By: Bill Bryson</td>\n",
       "      <td>Narrated by: Bill Bryson</td>\n",
       "      <td>16 hrs and 33 mins</td>\n",
       "      <td>Release date: 10-05-10</td>\n",
       "      <td>English</td>\n",
       "      <td>4.5 out of 5 stars6,439 ratings</td>\n",
       "      <td>22.50</td>\n",
       "    </tr>\n",
       "    <tr>\n",
       "      <th>1</th>\n",
       "      <td>Preserved</td>\n",
       "      <td>By: Dean G. Lampros</td>\n",
       "      <td>Narrated by: Al Kessel</td>\n",
       "      <td>11 hrs and 10 mins</td>\n",
       "      <td>Release date: 03-26-24</td>\n",
       "      <td>English</td>\n",
       "      <td>Not rated yet</td>\n",
       "      <td>21.49</td>\n",
       "    </tr>\n",
       "    <tr>\n",
       "      <th>2</th>\n",
       "      <td>Venice</td>\n",
       "      <td>By: Dennis Romano</td>\n",
       "      <td>Narrated by: David Colacci</td>\n",
       "      <td>30 hrs and 45 mins</td>\n",
       "      <td>Release date: 02-27-24</td>\n",
       "      <td>English</td>\n",
       "      <td>4 out of 5 stars4 ratings</td>\n",
       "      <td>30.09</td>\n",
       "    </tr>\n",
       "    <tr>\n",
       "      <th>3</th>\n",
       "      <td>Elevating Construction Senior Superintendents,...</td>\n",
       "      <td>By: Jason Schroeder</td>\n",
       "      <td>Narrated by: Kate Schroeder</td>\n",
       "      <td>7 hrs and 24 mins</td>\n",
       "      <td>Release date: 03-08-24</td>\n",
       "      <td>English</td>\n",
       "      <td>Not rated yet</td>\n",
       "      <td>14.99</td>\n",
       "    </tr>\n",
       "    <tr>\n",
       "      <th>4</th>\n",
       "      <td>Castles</td>\n",
       "      <td>By: Marc Morris</td>\n",
       "      <td>Narrated by: Derek Perkins</td>\n",
       "      <td>9 hrs and 18 mins</td>\n",
       "      <td>Release date: 04-04-17</td>\n",
       "      <td>English</td>\n",
       "      <td>4.5 out of 5 stars64 ratings</td>\n",
       "      <td>15.47</td>\n",
       "    </tr>\n",
       "  </tbody>\n",
       "</table>\n",
       "</div>"
      ]
     },
     "execution_count": 2,
     "metadata": {},
     "output_type": "execute_result"
    }
   ],
   "execution_count": 2
  },
  {
   "metadata": {},
   "cell_type": "markdown",
   "source": "<h1 style=\"text-align: center;\">Data Preprocess</h1>"
  },
  {
   "metadata": {},
   "cell_type": "markdown",
   "source": "For data preprocessing, the data frame is examined column by column, extracting valuable data from plain strings and converting them to appropriate data types. For a regression task like predicting pricing, data in numeric formats like Float is preferred. The goal here is to transform the raw data into something we can visualize and analyze in the following sections."
  },
  {
   "metadata": {
    "ExecuteTime": {
     "end_time": "2024-05-08T02:45:57.080178Z",
     "start_time": "2024-05-08T02:45:57.078312Z"
    }
   },
   "cell_type": "code",
   "source": [
    "audible_data.rename(columns={'releasedate': 'release date'}, inplace=True)\n",
    "audible_data.rename(str.title, axis='columns', inplace=True)"
   ],
   "outputs": [],
   "execution_count": 3
  },
  {
   "cell_type": "code",
   "metadata": {
    "ExecuteTime": {
     "end_time": "2024-05-08T02:45:57.084672Z",
     "start_time": "2024-05-08T02:45:57.080752Z"
    }
   },
   "source": "audible_data.head()",
   "outputs": [
    {
     "data": {
      "text/plain": [
       "                                                Name               Author  \\\n",
       "0                                            At Home      By: Bill Bryson   \n",
       "1                                          Preserved  By: Dean G. Lampros   \n",
       "2                                             Venice    By: Dennis Romano   \n",
       "3  Elevating Construction Senior Superintendents,...  By: Jason Schroeder   \n",
       "4                                            Castles      By: Marc Morris   \n",
       "\n",
       "                      Narrator                Time            Release Date  \\\n",
       "0     Narrated by: Bill Bryson  16 hrs and 33 mins  Release date: 10-05-10   \n",
       "1       Narrated by: Al Kessel  11 hrs and 10 mins  Release date: 03-26-24   \n",
       "2   Narrated by: David Colacci  30 hrs and 45 mins  Release date: 02-27-24   \n",
       "3  Narrated by: Kate Schroeder   7 hrs and 24 mins  Release date: 03-08-24   \n",
       "4   Narrated by: Derek Perkins   9 hrs and 18 mins  Release date: 04-04-17   \n",
       "\n",
       "  Language                            Stars  Price  \n",
       "0  English  4.5 out of 5 stars6,439 ratings  22.50  \n",
       "1  English                    Not rated yet  21.49  \n",
       "2  English        4 out of 5 stars4 ratings  30.09  \n",
       "3  English                    Not rated yet  14.99  \n",
       "4  English     4.5 out of 5 stars64 ratings  15.47  "
      ],
      "text/html": [
       "<div>\n",
       "<style scoped>\n",
       "    .dataframe tbody tr th:only-of-type {\n",
       "        vertical-align: middle;\n",
       "    }\n",
       "\n",
       "    .dataframe tbody tr th {\n",
       "        vertical-align: top;\n",
       "    }\n",
       "\n",
       "    .dataframe thead th {\n",
       "        text-align: right;\n",
       "    }\n",
       "</style>\n",
       "<table border=\"1\" class=\"dataframe\">\n",
       "  <thead>\n",
       "    <tr style=\"text-align: right;\">\n",
       "      <th></th>\n",
       "      <th>Name</th>\n",
       "      <th>Author</th>\n",
       "      <th>Narrator</th>\n",
       "      <th>Time</th>\n",
       "      <th>Release Date</th>\n",
       "      <th>Language</th>\n",
       "      <th>Stars</th>\n",
       "      <th>Price</th>\n",
       "    </tr>\n",
       "  </thead>\n",
       "  <tbody>\n",
       "    <tr>\n",
       "      <th>0</th>\n",
       "      <td>At Home</td>\n",
       "      <td>By: Bill Bryson</td>\n",
       "      <td>Narrated by: Bill Bryson</td>\n",
       "      <td>16 hrs and 33 mins</td>\n",
       "      <td>Release date: 10-05-10</td>\n",
       "      <td>English</td>\n",
       "      <td>4.5 out of 5 stars6,439 ratings</td>\n",
       "      <td>22.50</td>\n",
       "    </tr>\n",
       "    <tr>\n",
       "      <th>1</th>\n",
       "      <td>Preserved</td>\n",
       "      <td>By: Dean G. Lampros</td>\n",
       "      <td>Narrated by: Al Kessel</td>\n",
       "      <td>11 hrs and 10 mins</td>\n",
       "      <td>Release date: 03-26-24</td>\n",
       "      <td>English</td>\n",
       "      <td>Not rated yet</td>\n",
       "      <td>21.49</td>\n",
       "    </tr>\n",
       "    <tr>\n",
       "      <th>2</th>\n",
       "      <td>Venice</td>\n",
       "      <td>By: Dennis Romano</td>\n",
       "      <td>Narrated by: David Colacci</td>\n",
       "      <td>30 hrs and 45 mins</td>\n",
       "      <td>Release date: 02-27-24</td>\n",
       "      <td>English</td>\n",
       "      <td>4 out of 5 stars4 ratings</td>\n",
       "      <td>30.09</td>\n",
       "    </tr>\n",
       "    <tr>\n",
       "      <th>3</th>\n",
       "      <td>Elevating Construction Senior Superintendents,...</td>\n",
       "      <td>By: Jason Schroeder</td>\n",
       "      <td>Narrated by: Kate Schroeder</td>\n",
       "      <td>7 hrs and 24 mins</td>\n",
       "      <td>Release date: 03-08-24</td>\n",
       "      <td>English</td>\n",
       "      <td>Not rated yet</td>\n",
       "      <td>14.99</td>\n",
       "    </tr>\n",
       "    <tr>\n",
       "      <th>4</th>\n",
       "      <td>Castles</td>\n",
       "      <td>By: Marc Morris</td>\n",
       "      <td>Narrated by: Derek Perkins</td>\n",
       "      <td>9 hrs and 18 mins</td>\n",
       "      <td>Release date: 04-04-17</td>\n",
       "      <td>English</td>\n",
       "      <td>4.5 out of 5 stars64 ratings</td>\n",
       "      <td>15.47</td>\n",
       "    </tr>\n",
       "  </tbody>\n",
       "</table>\n",
       "</div>"
      ]
     },
     "execution_count": 4,
     "metadata": {},
     "output_type": "execute_result"
    }
   ],
   "execution_count": 4
  },
  {
   "cell_type": "code",
   "metadata": {
    "ExecuteTime": {
     "end_time": "2024-05-08T02:45:57.135450Z",
     "start_time": "2024-05-08T02:45:57.085482Z"
    }
   },
   "source": [
    "audible_data.describe(include='all')"
   ],
   "outputs": [
    {
     "data": {
      "text/plain": [
       "               Name                Author                    Narrator    Time  \\\n",
       "count         55235                 55235                       54749   55235   \n",
       "unique        52841                 33933                       19776    2351   \n",
       "top     The Odyssey  By: Barrett Williams  Narrated by: Virtual Voice  4 mins   \n",
       "freq             15                   467                        2823     172   \n",
       "\n",
       "                  Release Date Language          Stars  Price  \n",
       "count                    55235    55235          55235  55235  \n",
       "unique                    5314       23           6736   1429  \n",
       "top     Release date: 04-21-24  English  Not rated yet   Free  \n",
       "freq                       353    52877           9202  11319  "
      ],
      "text/html": [
       "<div>\n",
       "<style scoped>\n",
       "    .dataframe tbody tr th:only-of-type {\n",
       "        vertical-align: middle;\n",
       "    }\n",
       "\n",
       "    .dataframe tbody tr th {\n",
       "        vertical-align: top;\n",
       "    }\n",
       "\n",
       "    .dataframe thead th {\n",
       "        text-align: right;\n",
       "    }\n",
       "</style>\n",
       "<table border=\"1\" class=\"dataframe\">\n",
       "  <thead>\n",
       "    <tr style=\"text-align: right;\">\n",
       "      <th></th>\n",
       "      <th>Name</th>\n",
       "      <th>Author</th>\n",
       "      <th>Narrator</th>\n",
       "      <th>Time</th>\n",
       "      <th>Release Date</th>\n",
       "      <th>Language</th>\n",
       "      <th>Stars</th>\n",
       "      <th>Price</th>\n",
       "    </tr>\n",
       "  </thead>\n",
       "  <tbody>\n",
       "    <tr>\n",
       "      <th>count</th>\n",
       "      <td>55235</td>\n",
       "      <td>55235</td>\n",
       "      <td>54749</td>\n",
       "      <td>55235</td>\n",
       "      <td>55235</td>\n",
       "      <td>55235</td>\n",
       "      <td>55235</td>\n",
       "      <td>55235</td>\n",
       "    </tr>\n",
       "    <tr>\n",
       "      <th>unique</th>\n",
       "      <td>52841</td>\n",
       "      <td>33933</td>\n",
       "      <td>19776</td>\n",
       "      <td>2351</td>\n",
       "      <td>5314</td>\n",
       "      <td>23</td>\n",
       "      <td>6736</td>\n",
       "      <td>1429</td>\n",
       "    </tr>\n",
       "    <tr>\n",
       "      <th>top</th>\n",
       "      <td>The Odyssey</td>\n",
       "      <td>By: Barrett Williams</td>\n",
       "      <td>Narrated by: Virtual Voice</td>\n",
       "      <td>4 mins</td>\n",
       "      <td>Release date: 04-21-24</td>\n",
       "      <td>English</td>\n",
       "      <td>Not rated yet</td>\n",
       "      <td>Free</td>\n",
       "    </tr>\n",
       "    <tr>\n",
       "      <th>freq</th>\n",
       "      <td>15</td>\n",
       "      <td>467</td>\n",
       "      <td>2823</td>\n",
       "      <td>172</td>\n",
       "      <td>353</td>\n",
       "      <td>52877</td>\n",
       "      <td>9202</td>\n",
       "      <td>11319</td>\n",
       "    </tr>\n",
       "  </tbody>\n",
       "</table>\n",
       "</div>"
      ]
     },
     "execution_count": 5,
     "metadata": {},
     "output_type": "execute_result"
    }
   ],
   "execution_count": 5
  },
  {
   "cell_type": "code",
   "metadata": {
    "ExecuteTime": {
     "end_time": "2024-05-08T02:45:57.139448Z",
     "start_time": "2024-05-08T02:45:57.136075Z"
    }
   },
   "source": [
    "audible_data.dtypes"
   ],
   "outputs": [
    {
     "data": {
      "text/plain": [
       "Name            object\n",
       "Author          object\n",
       "Narrator        object\n",
       "Time            object\n",
       "Release Date    object\n",
       "Language        object\n",
       "Stars           object\n",
       "Price           object\n",
       "dtype: object"
      ]
     },
     "execution_count": 6,
     "metadata": {},
     "output_type": "execute_result"
    }
   ],
   "execution_count": 6
  },
  {
   "cell_type": "markdown",
   "metadata": {},
   "source": [
    "## Author Column Preprocess"
   ]
  },
  {
   "cell_type": "markdown",
   "metadata": {},
   "source": "### Strip \"By: \""
  },
  {
   "cell_type": "code",
   "metadata": {
    "collapsed": false,
    "ExecuteTime": {
     "end_time": "2024-05-08T02:45:57.164142Z",
     "start_time": "2024-05-08T02:45:57.141096Z"
    }
   },
   "source": [
    "audible_data['Author'] = audible_data['Author'].str.replace('\"', '').str.replace('By: ', '').str.strip()\n",
    "audible_data['Author'].head()"
   ],
   "outputs": [
    {
     "data": {
      "text/plain": [
       "0        Bill Bryson\n",
       "1    Dean G. Lampros\n",
       "2      Dennis Romano\n",
       "3    Jason Schroeder\n",
       "4        Marc Morris\n",
       "Name: Author, dtype: object"
      ]
     },
     "execution_count": 7,
     "metadata": {},
     "output_type": "execute_result"
    }
   ],
   "execution_count": 7
  },
  {
   "cell_type": "markdown",
   "metadata": {},
   "source": [
    "## Narrator Column Preprocess"
   ]
  },
  {
   "cell_type": "markdown",
   "metadata": {},
   "source": "### Strip \"Narrated by: \""
  },
  {
   "cell_type": "code",
   "metadata": {
    "ExecuteTime": {
     "end_time": "2024-05-08T02:45:57.186704Z",
     "start_time": "2024-05-08T02:45:57.164684Z"
    }
   },
   "source": [
    "audible_data['Narrator'] = audible_data['Narrator'].str.replace('\"', '').str.replace('Narrated by: ', '').str.strip()\n",
    "audible_data['Narrator'].head()"
   ],
   "outputs": [
    {
     "data": {
      "text/plain": [
       "0       Bill Bryson\n",
       "1         Al Kessel\n",
       "2     David Colacci\n",
       "3    Kate Schroeder\n",
       "4     Derek Perkins\n",
       "Name: Narrator, dtype: object"
      ]
     },
     "execution_count": 8,
     "metadata": {},
     "output_type": "execute_result"
    }
   ],
   "execution_count": 8
  },
  {
   "cell_type": "markdown",
   "metadata": {},
   "source": [
    "## Time Column Preprocess"
   ]
  },
  {
   "metadata": {},
   "cell_type": "markdown",
   "source": "### Remove Data Instances with Unknown Time"
  },
  {
   "metadata": {
    "ExecuteTime": {
     "end_time": "2024-05-08T02:45:57.204585Z",
     "start_time": "2024-05-08T02:45:57.187677Z"
    }
   },
   "cell_type": "code",
   "source": [
    "print(f'Size of Dataset before Removing: {audible_data.shape}')\n",
    "audible_data = audible_data[~audible_data['Time'].str.contains('Not Yet Known', case=False)]\n",
    "print(f'Size of Dataset after Removing: {audible_data.shape}')"
   ],
   "outputs": [
    {
     "name": "stdout",
     "output_type": "stream",
     "text": [
      "Size of Dataset before Removing: (55235, 8)\n",
      "Size of Dataset after Removing: (55173, 8)\n"
     ]
    }
   ],
   "execution_count": 9
  },
  {
   "cell_type": "markdown",
   "metadata": {},
   "source": [
    "### Convert Time To Timedelta"
   ]
  },
  {
   "cell_type": "code",
   "metadata": {
    "ExecuteTime": {
     "end_time": "2024-05-08T02:45:57.349163Z",
     "start_time": "2024-05-08T02:45:57.205422Z"
    }
   },
   "source": [
    "def convert_to_timedelta(time_string):\n",
    "    hours_match = re.search(r'(\\d+)\\s*hr', time_string)\n",
    "    minutes_match = re.search(r'(\\d+)\\s*min', time_string)\n",
    "    return timedelta(\n",
    "        hours=int(hours_match.group(1)) if hours_match else 0,\n",
    "        minutes=int(minutes_match.group(1)) if minutes_match else 0\n",
    "    )\n",
    "\n",
    "audible_data['Time'] = audible_data['Time'].apply(convert_to_timedelta)\n",
    "audible_data['Time'].head()"
   ],
   "outputs": [
    {
     "data": {
      "text/plain": [
       "0   0 days 16:33:00\n",
       "1   0 days 11:10:00\n",
       "2   1 days 06:45:00\n",
       "3   0 days 07:24:00\n",
       "4   0 days 09:18:00\n",
       "Name: Time, dtype: timedelta64[ns]"
      ]
     },
     "execution_count": 10,
     "metadata": {},
     "output_type": "execute_result"
    }
   ],
   "execution_count": 10
  },
  {
   "cell_type": "markdown",
   "metadata": {},
   "source": [
    "### Convert Timedelta to Seconds in Float"
   ]
  },
  {
   "cell_type": "code",
   "metadata": {
    "ExecuteTime": {
     "end_time": "2024-05-08T02:45:57.357822Z",
     "start_time": "2024-05-08T02:45:57.349962Z"
    }
   },
   "source": [
    "audible_data['Time'] = audible_data['Time'].dt.total_seconds().astype('Float64')\n",
    "audible_data.rename(columns={'Time': 'Time in Seconds'}, inplace=True)\n",
    "audible_data['Time in Seconds'].head()"
   ],
   "outputs": [
    {
     "data": {
      "text/plain": [
       "0     59580.0\n",
       "1     40200.0\n",
       "2    110700.0\n",
       "3     26640.0\n",
       "4     33480.0\n",
       "Name: Time in Seconds, dtype: Float64"
      ]
     },
     "execution_count": 11,
     "metadata": {},
     "output_type": "execute_result"
    }
   ],
   "execution_count": 11
  },
  {
   "cell_type": "markdown",
   "metadata": {},
   "source": [
    "## Release Date Column Preprocess"
   ]
  },
  {
   "cell_type": "markdown",
   "metadata": {},
   "source": [
    "### Convert Release Date To Datetime"
   ]
  },
  {
   "cell_type": "code",
   "metadata": {
    "ExecuteTime": {
     "end_time": "2024-05-08T02:45:57.442196Z",
     "start_time": "2024-05-08T02:45:57.358482Z"
    }
   },
   "source": [
    "audible_data['Release Date'] = audible_data['Release Date'].str.replace('\"', '').str.replace('Release date:', '').str.strip()\n",
    "audible_data['Release Date'] = pd.to_datetime(audible_data['Release Date'], format='%m-%d-%y')\n",
    "audible_data['Release Date'].head()"
   ],
   "outputs": [
    {
     "data": {
      "text/plain": [
       "0   2010-10-05\n",
       "1   2024-03-26\n",
       "2   2024-02-27\n",
       "3   2024-03-08\n",
       "4   2017-04-04\n",
       "Name: Release Date, dtype: datetime64[ns]"
      ]
     },
     "execution_count": 12,
     "metadata": {},
     "output_type": "execute_result"
    }
   ],
   "execution_count": 12
  },
  {
   "cell_type": "markdown",
   "metadata": {},
   "source": [
    "## Stars Column Preprocess"
   ]
  },
  {
   "cell_type": "markdown",
   "metadata": {},
   "source": "### Remove Data Instances without a Rating"
  },
  {
   "metadata": {},
   "cell_type": "markdown",
   "source": "The rating information is insufficient when an audiobook has too few rating responses."
  },
  {
   "metadata": {
    "ExecuteTime": {
     "end_time": "2024-05-08T02:45:57.463272Z",
     "start_time": "2024-05-08T02:45:57.442806Z"
    }
   },
   "cell_type": "code",
   "source": [
    "print(f'Size of Dataset before Removing: {audible_data.shape}')\n",
    "audible_data = audible_data[~audible_data['Stars'].str.contains('not rated yet', case=False)]\n",
    "print(f'Size of Dataset after Removing: {audible_data.shape}')"
   ],
   "outputs": [
    {
     "name": "stdout",
     "output_type": "stream",
     "text": [
      "Size of Dataset before Removing: (55173, 8)\n",
      "Size of Dataset after Removing: (46032, 8)\n"
     ]
    }
   ],
   "execution_count": 13
  },
  {
   "cell_type": "markdown",
   "metadata": {},
   "source": [
    "### Extract Rating From Stars"
   ]
  },
  {
   "cell_type": "code",
   "metadata": {
    "ExecuteTime": {
     "end_time": "2024-05-08T02:45:57.770565Z",
     "start_time": "2024-05-08T02:45:57.463924Z"
    }
   },
   "source": [
    "audible_data['Stars'] = audible_data['Stars'].replace('\"', '').str.replace(',', '').str.strip()\n",
    "extract = lambda cast, row, regex, group_num : cast(re.search(regex, row['Stars']).group(group_num))\n",
    "audible_data['Number Of Rating Response'] = audible_data.apply(lambda row: extract(int, row, r'stars(\\d+) rating', 1), axis=1).astype('Int64')\n",
    "audible_data['Stars'] = audible_data.apply(lambda row: extract(float, row, r'(\\d+(\\.\\d+)?) out of', 1), axis=1).astype('Float64')\n",
    "audible_data.rename(columns={'Stars': 'Stars (Max: 5)'}, inplace=True)\n",
    "audible_data[['Stars (Max: 5)', 'Number Of Rating Response']].head()"
   ],
   "outputs": [
    {
     "data": {
      "text/plain": [
       "   Stars (Max: 5)  Number Of Rating Response\n",
       "0             4.5                       6439\n",
       "2             4.0                          4\n",
       "4             4.5                         64\n",
       "5             5.0                          2\n",
       "6             4.5                        188"
      ],
      "text/html": [
       "<div>\n",
       "<style scoped>\n",
       "    .dataframe tbody tr th:only-of-type {\n",
       "        vertical-align: middle;\n",
       "    }\n",
       "\n",
       "    .dataframe tbody tr th {\n",
       "        vertical-align: top;\n",
       "    }\n",
       "\n",
       "    .dataframe thead th {\n",
       "        text-align: right;\n",
       "    }\n",
       "</style>\n",
       "<table border=\"1\" class=\"dataframe\">\n",
       "  <thead>\n",
       "    <tr style=\"text-align: right;\">\n",
       "      <th></th>\n",
       "      <th>Stars (Max: 5)</th>\n",
       "      <th>Number Of Rating Response</th>\n",
       "    </tr>\n",
       "  </thead>\n",
       "  <tbody>\n",
       "    <tr>\n",
       "      <th>0</th>\n",
       "      <td>4.5</td>\n",
       "      <td>6439</td>\n",
       "    </tr>\n",
       "    <tr>\n",
       "      <th>2</th>\n",
       "      <td>4.0</td>\n",
       "      <td>4</td>\n",
       "    </tr>\n",
       "    <tr>\n",
       "      <th>4</th>\n",
       "      <td>4.5</td>\n",
       "      <td>64</td>\n",
       "    </tr>\n",
       "    <tr>\n",
       "      <th>5</th>\n",
       "      <td>5.0</td>\n",
       "      <td>2</td>\n",
       "    </tr>\n",
       "    <tr>\n",
       "      <th>6</th>\n",
       "      <td>4.5</td>\n",
       "      <td>188</td>\n",
       "    </tr>\n",
       "  </tbody>\n",
       "</table>\n",
       "</div>"
      ]
     },
     "execution_count": 14,
     "metadata": {},
     "output_type": "execute_result"
    }
   ],
   "execution_count": 14
  },
  {
   "metadata": {},
   "cell_type": "markdown",
   "source": "### Filter Data Instances by Number of Rating Responses"
  },
  {
   "metadata": {
    "ExecuteTime": {
     "end_time": "2024-05-08T02:45:57.776996Z",
     "start_time": "2024-05-08T02:45:57.771428Z"
    }
   },
   "cell_type": "code",
   "source": [
    "print(f'Size of Dataset before Filtering: {audible_data.shape}')\n",
    "audible_data = audible_data[audible_data['Number Of Rating Response'] > 3]\n",
    "print(f'Size of Dataset after Filtering: {audible_data.shape}')"
   ],
   "outputs": [
    {
     "name": "stdout",
     "output_type": "stream",
     "text": [
      "Size of Dataset before Filtering: (46032, 9)\n",
      "Size of Dataset after Filtering: (39535, 9)\n"
     ]
    }
   ],
   "execution_count": 15
  },
  {
   "metadata": {},
   "cell_type": "markdown",
   "source": "### Create Weighted Rating"
  },
  {
   "metadata": {
    "ExecuteTime": {
     "end_time": "2024-05-08T02:45:57.785708Z",
     "start_time": "2024-05-08T02:45:57.777751Z"
    }
   },
   "cell_type": "code",
   "source": [
    "audible_data['Weighted Rating'] = audible_data['Stars (Max: 5)'] * audible_data['Number Of Rating Response']\n",
    "audible_data = audible_data[list(audible_data.columns)[:-4] + ['Stars (Max: 5)', 'Number Of Rating Response', 'Weighted Rating', 'Price']]\n",
    "audible_data.head()"
   ],
   "outputs": [
    {
     "data": {
      "text/plain": [
       "                            Name          Author        Narrator  \\\n",
       "0                        At Home     Bill Bryson     Bill Bryson   \n",
       "2                         Venice   Dennis Romano   David Colacci   \n",
       "4                        Castles     Marc Morris   Derek Perkins   \n",
       "6  The $12 Million Stuffed Shark    Don Thompson     Adam Verner   \n",
       "7                The Last Castle  Denise Kiernan  Denise Kiernan   \n",
       "\n",
       "   Time in Seconds Release Date Language  Stars (Max: 5)  \\\n",
       "0          59580.0   2010-10-05  English             4.5   \n",
       "2         110700.0   2024-02-27  English             4.0   \n",
       "4          33480.0   2017-04-04  English             4.5   \n",
       "6          37740.0   2017-02-07  English             4.5   \n",
       "7          37080.0   2017-09-26  English             4.5   \n",
       "\n",
       "   Number Of Rating Response  Weighted Rating  Price  \n",
       "0                       6439          28975.5  22.50  \n",
       "2                          4             16.0  30.09  \n",
       "4                         64            288.0  15.47  \n",
       "6                        188            846.0  15.47  \n",
       "7                        941           4234.5  23.75  "
      ],
      "text/html": [
       "<div>\n",
       "<style scoped>\n",
       "    .dataframe tbody tr th:only-of-type {\n",
       "        vertical-align: middle;\n",
       "    }\n",
       "\n",
       "    .dataframe tbody tr th {\n",
       "        vertical-align: top;\n",
       "    }\n",
       "\n",
       "    .dataframe thead th {\n",
       "        text-align: right;\n",
       "    }\n",
       "</style>\n",
       "<table border=\"1\" class=\"dataframe\">\n",
       "  <thead>\n",
       "    <tr style=\"text-align: right;\">\n",
       "      <th></th>\n",
       "      <th>Name</th>\n",
       "      <th>Author</th>\n",
       "      <th>Narrator</th>\n",
       "      <th>Time in Seconds</th>\n",
       "      <th>Release Date</th>\n",
       "      <th>Language</th>\n",
       "      <th>Stars (Max: 5)</th>\n",
       "      <th>Number Of Rating Response</th>\n",
       "      <th>Weighted Rating</th>\n",
       "      <th>Price</th>\n",
       "    </tr>\n",
       "  </thead>\n",
       "  <tbody>\n",
       "    <tr>\n",
       "      <th>0</th>\n",
       "      <td>At Home</td>\n",
       "      <td>Bill Bryson</td>\n",
       "      <td>Bill Bryson</td>\n",
       "      <td>59580.0</td>\n",
       "      <td>2010-10-05</td>\n",
       "      <td>English</td>\n",
       "      <td>4.5</td>\n",
       "      <td>6439</td>\n",
       "      <td>28975.5</td>\n",
       "      <td>22.50</td>\n",
       "    </tr>\n",
       "    <tr>\n",
       "      <th>2</th>\n",
       "      <td>Venice</td>\n",
       "      <td>Dennis Romano</td>\n",
       "      <td>David Colacci</td>\n",
       "      <td>110700.0</td>\n",
       "      <td>2024-02-27</td>\n",
       "      <td>English</td>\n",
       "      <td>4.0</td>\n",
       "      <td>4</td>\n",
       "      <td>16.0</td>\n",
       "      <td>30.09</td>\n",
       "    </tr>\n",
       "    <tr>\n",
       "      <th>4</th>\n",
       "      <td>Castles</td>\n",
       "      <td>Marc Morris</td>\n",
       "      <td>Derek Perkins</td>\n",
       "      <td>33480.0</td>\n",
       "      <td>2017-04-04</td>\n",
       "      <td>English</td>\n",
       "      <td>4.5</td>\n",
       "      <td>64</td>\n",
       "      <td>288.0</td>\n",
       "      <td>15.47</td>\n",
       "    </tr>\n",
       "    <tr>\n",
       "      <th>6</th>\n",
       "      <td>The $12 Million Stuffed Shark</td>\n",
       "      <td>Don Thompson</td>\n",
       "      <td>Adam Verner</td>\n",
       "      <td>37740.0</td>\n",
       "      <td>2017-02-07</td>\n",
       "      <td>English</td>\n",
       "      <td>4.5</td>\n",
       "      <td>188</td>\n",
       "      <td>846.0</td>\n",
       "      <td>15.47</td>\n",
       "    </tr>\n",
       "    <tr>\n",
       "      <th>7</th>\n",
       "      <td>The Last Castle</td>\n",
       "      <td>Denise Kiernan</td>\n",
       "      <td>Denise Kiernan</td>\n",
       "      <td>37080.0</td>\n",
       "      <td>2017-09-26</td>\n",
       "      <td>English</td>\n",
       "      <td>4.5</td>\n",
       "      <td>941</td>\n",
       "      <td>4234.5</td>\n",
       "      <td>23.75</td>\n",
       "    </tr>\n",
       "  </tbody>\n",
       "</table>\n",
       "</div>"
      ]
     },
     "execution_count": 16,
     "metadata": {},
     "output_type": "execute_result"
    }
   ],
   "execution_count": 16
  },
  {
   "cell_type": "markdown",
   "metadata": {},
   "source": [
    "## Price Column Preprocess"
   ]
  },
  {
   "metadata": {},
   "cell_type": "markdown",
   "source": "### Remove Data Instances with Free Pricing"
  },
  {
   "metadata": {},
   "cell_type": "markdown",
   "source": "Free audiobooks are removed because their pricing can result from various other factors unrelated to our features, such as promotions."
  },
  {
   "metadata": {
    "ExecuteTime": {
     "end_time": "2024-05-08T02:45:57.799035Z",
     "start_time": "2024-05-08T02:45:57.786508Z"
    }
   },
   "cell_type": "code",
   "source": [
    "print(f'Size of Dataset before Removing: {audible_data.shape}')\n",
    "audible_data = audible_data[~audible_data['Price'].str.contains('Free', case=False)]\n",
    "print(f'Size of Dataset after Removing: {audible_data.shape}')"
   ],
   "outputs": [
    {
     "name": "stdout",
     "output_type": "stream",
     "text": [
      "Size of Dataset before Removing: (39535, 10)\n",
      "Size of Dataset after Removing: (34854, 10)\n"
     ]
    }
   ],
   "execution_count": 17
  },
  {
   "cell_type": "markdown",
   "metadata": {},
   "source": [
    "### Convert Price to Float"
   ]
  },
  {
   "cell_type": "code",
   "metadata": {
    "ExecuteTime": {
     "end_time": "2024-05-08T02:45:57.813790Z",
     "start_time": "2024-05-08T02:45:57.799999Z"
    }
   },
   "source": [
    "audible_data['Price'] = audible_data['Price'].replace('\"', '').str.replace(',', '').str.strip().astype('Float64')\n",
    "audible_data['Price'].dtypes"
   ],
   "outputs": [
    {
     "data": {
      "text/plain": [
       "Float64Dtype()"
      ]
     },
     "execution_count": 18,
     "metadata": {},
     "output_type": "execute_result"
    }
   ],
   "execution_count": 18
  },
  {
   "metadata": {},
   "cell_type": "markdown",
   "source": "## Language Column Preprocess"
  },
  {
   "metadata": {},
   "cell_type": "markdown",
   "source": "### Filter Data Instances by Language Count"
  },
  {
   "metadata": {
    "ExecuteTime": {
     "end_time": "2024-05-08T02:45:57.829148Z",
     "start_time": "2024-05-08T02:45:57.814477Z"
    }
   },
   "cell_type": "code",
   "source": [
    "audible_data['Language'] = audible_data['Language'].str.replace('\"', '').str.strip().str.title()\n",
    "language_counts = audible_data['Language'].value_counts()\n",
    "language_counts"
   ],
   "outputs": [
    {
     "data": {
      "text/plain": [
       "Language\n",
       "English             34264\n",
       "Spanish               490\n",
       "French                 27\n",
       "German                 24\n",
       "Italian                21\n",
       "Portuguese             18\n",
       "Japanese                3\n",
       "Arabic                  2\n",
       "Afrikaans               2\n",
       "Mandarin Chinese        1\n",
       "Danish                  1\n",
       "Hebrew                  1\n",
       "Name: count, dtype: int64"
      ]
     },
     "execution_count": 19,
     "metadata": {},
     "output_type": "execute_result"
    }
   ],
   "execution_count": 19
  },
  {
   "metadata": {
    "ExecuteTime": {
     "end_time": "2024-05-08T02:45:57.835314Z",
     "start_time": "2024-05-08T02:45:57.829848Z"
    }
   },
   "cell_type": "code",
   "source": [
    "print(f'Size of Dataset before Filtering: {audible_data.shape}')\n",
    "audible_data = audible_data[audible_data['Language'].isin(language_counts[language_counts >= 15].index)]\n",
    "print(f'Size of Dataset after Filtering: {audible_data.shape}')"
   ],
   "outputs": [
    {
     "name": "stdout",
     "output_type": "stream",
     "text": [
      "Size of Dataset before Filtering: (34854, 10)\n",
      "Size of Dataset after Filtering: (34844, 10)\n"
     ]
    }
   ],
   "execution_count": 20
  },
  {
   "metadata": {},
   "cell_type": "markdown",
   "source": "### Convert Language Column to One-Hot Encoding"
  },
  {
   "metadata": {
    "ExecuteTime": {
     "end_time": "2024-05-08T02:45:57.848348Z",
     "start_time": "2024-05-08T02:45:57.836267Z"
    }
   },
   "cell_type": "code",
   "source": [
    "language_index = audible_data.columns.get_loc('Language')\n",
    "dummies = pd.get_dummies(audible_data['Language'], prefix='Language')\n",
    "audible_data = audible_data.drop('Language', axis=1)\n",
    "audible_data = pd.concat([audible_data.iloc[:, :language_index], dummies, audible_data.iloc[:, language_index:]], axis=1)  # insert dummies right after the 'Language' column\n",
    "\n",
    "# display value counts of one-hot encoded language columns for comparison with the section above\n",
    "sorted({col: audible_data[col].value_counts()[True] for col in audible_data.columns if col.startswith('Language_')}.items(), key=lambda items: items[1], reverse=True)"
   ],
   "outputs": [
    {
     "data": {
      "text/plain": [
       "[('Language_English', 34264),\n",
       " ('Language_Spanish', 490),\n",
       " ('Language_French', 27),\n",
       " ('Language_German', 24),\n",
       " ('Language_Italian', 21),\n",
       " ('Language_Portuguese', 18)]"
      ]
     },
     "execution_count": 21,
     "metadata": {},
     "output_type": "execute_result"
    }
   ],
   "execution_count": 21
  },
  {
   "metadata": {},
   "cell_type": "markdown",
   "source": "## Drop Duplicates (If Any)"
  },
  {
   "metadata": {
    "ExecuteTime": {
     "end_time": "2024-05-08T02:45:57.863006Z",
     "start_time": "2024-05-08T02:45:57.852066Z"
    }
   },
   "cell_type": "code",
   "source": [
    "print(f'Size of Dataset before Dropping: {audible_data.shape}')\n",
    "audible_data = audible_data.drop_duplicates(subset=['Name', 'Author', 'Narrator'])\n",
    "print(f'Size of Dataset after Dropping: {audible_data.shape}')"
   ],
   "outputs": [
    {
     "name": "stdout",
     "output_type": "stream",
     "text": [
      "Size of Dataset before Dropping: (34844, 15)\n",
      "Size of Dataset after Dropping: (34844, 15)\n"
     ]
    }
   ],
   "execution_count": 22
  },
  {
   "cell_type": "markdown",
   "metadata": {},
   "source": [
    "## Save Preprocessed Dataset"
   ]
  },
  {
   "cell_type": "code",
   "metadata": {
    "ExecuteTime": {
     "end_time": "2024-05-08T02:45:58.001485Z",
     "start_time": "2024-05-08T02:45:57.863619Z"
    }
   },
   "source": "audible_data.to_csv(data_folder + '/audible.csv', index=False)",
   "outputs": [],
   "execution_count": 23
  },
  {
   "cell_type": "markdown",
   "metadata": {},
   "source": [
    "<h1 style=\"text-align: center;\">Data Exploration</h1>"
   ]
  },
  {
   "cell_type": "code",
   "metadata": {
    "ExecuteTime": {
     "end_time": "2024-05-08T02:45:58.007517Z",
     "start_time": "2024-05-08T02:45:58.002401Z"
    }
   },
   "source": [
    "audible_data.head()"
   ],
   "outputs": [
    {
     "data": {
      "text/plain": [
       "                            Name          Author        Narrator  \\\n",
       "0                        At Home     Bill Bryson     Bill Bryson   \n",
       "2                         Venice   Dennis Romano   David Colacci   \n",
       "4                        Castles     Marc Morris   Derek Perkins   \n",
       "6  The $12 Million Stuffed Shark    Don Thompson     Adam Verner   \n",
       "7                The Last Castle  Denise Kiernan  Denise Kiernan   \n",
       "\n",
       "   Time in Seconds Release Date  Language_English  Language_French  \\\n",
       "0          59580.0   2010-10-05              True            False   \n",
       "2         110700.0   2024-02-27              True            False   \n",
       "4          33480.0   2017-04-04              True            False   \n",
       "6          37740.0   2017-02-07              True            False   \n",
       "7          37080.0   2017-09-26              True            False   \n",
       "\n",
       "   Language_German  Language_Italian  Language_Portuguese  Language_Spanish  \\\n",
       "0            False             False                False             False   \n",
       "2            False             False                False             False   \n",
       "4            False             False                False             False   \n",
       "6            False             False                False             False   \n",
       "7            False             False                False             False   \n",
       "\n",
       "   Stars (Max: 5)  Number Of Rating Response  Weighted Rating  Price  \n",
       "0             4.5                       6439          28975.5   22.5  \n",
       "2             4.0                          4             16.0  30.09  \n",
       "4             4.5                         64            288.0  15.47  \n",
       "6             4.5                        188            846.0  15.47  \n",
       "7             4.5                        941           4234.5  23.75  "
      ],
      "text/html": [
       "<div>\n",
       "<style scoped>\n",
       "    .dataframe tbody tr th:only-of-type {\n",
       "        vertical-align: middle;\n",
       "    }\n",
       "\n",
       "    .dataframe tbody tr th {\n",
       "        vertical-align: top;\n",
       "    }\n",
       "\n",
       "    .dataframe thead th {\n",
       "        text-align: right;\n",
       "    }\n",
       "</style>\n",
       "<table border=\"1\" class=\"dataframe\">\n",
       "  <thead>\n",
       "    <tr style=\"text-align: right;\">\n",
       "      <th></th>\n",
       "      <th>Name</th>\n",
       "      <th>Author</th>\n",
       "      <th>Narrator</th>\n",
       "      <th>Time in Seconds</th>\n",
       "      <th>Release Date</th>\n",
       "      <th>Language_English</th>\n",
       "      <th>Language_French</th>\n",
       "      <th>Language_German</th>\n",
       "      <th>Language_Italian</th>\n",
       "      <th>Language_Portuguese</th>\n",
       "      <th>Language_Spanish</th>\n",
       "      <th>Stars (Max: 5)</th>\n",
       "      <th>Number Of Rating Response</th>\n",
       "      <th>Weighted Rating</th>\n",
       "      <th>Price</th>\n",
       "    </tr>\n",
       "  </thead>\n",
       "  <tbody>\n",
       "    <tr>\n",
       "      <th>0</th>\n",
       "      <td>At Home</td>\n",
       "      <td>Bill Bryson</td>\n",
       "      <td>Bill Bryson</td>\n",
       "      <td>59580.0</td>\n",
       "      <td>2010-10-05</td>\n",
       "      <td>True</td>\n",
       "      <td>False</td>\n",
       "      <td>False</td>\n",
       "      <td>False</td>\n",
       "      <td>False</td>\n",
       "      <td>False</td>\n",
       "      <td>4.5</td>\n",
       "      <td>6439</td>\n",
       "      <td>28975.5</td>\n",
       "      <td>22.5</td>\n",
       "    </tr>\n",
       "    <tr>\n",
       "      <th>2</th>\n",
       "      <td>Venice</td>\n",
       "      <td>Dennis Romano</td>\n",
       "      <td>David Colacci</td>\n",
       "      <td>110700.0</td>\n",
       "      <td>2024-02-27</td>\n",
       "      <td>True</td>\n",
       "      <td>False</td>\n",
       "      <td>False</td>\n",
       "      <td>False</td>\n",
       "      <td>False</td>\n",
       "      <td>False</td>\n",
       "      <td>4.0</td>\n",
       "      <td>4</td>\n",
       "      <td>16.0</td>\n",
       "      <td>30.09</td>\n",
       "    </tr>\n",
       "    <tr>\n",
       "      <th>4</th>\n",
       "      <td>Castles</td>\n",
       "      <td>Marc Morris</td>\n",
       "      <td>Derek Perkins</td>\n",
       "      <td>33480.0</td>\n",
       "      <td>2017-04-04</td>\n",
       "      <td>True</td>\n",
       "      <td>False</td>\n",
       "      <td>False</td>\n",
       "      <td>False</td>\n",
       "      <td>False</td>\n",
       "      <td>False</td>\n",
       "      <td>4.5</td>\n",
       "      <td>64</td>\n",
       "      <td>288.0</td>\n",
       "      <td>15.47</td>\n",
       "    </tr>\n",
       "    <tr>\n",
       "      <th>6</th>\n",
       "      <td>The $12 Million Stuffed Shark</td>\n",
       "      <td>Don Thompson</td>\n",
       "      <td>Adam Verner</td>\n",
       "      <td>37740.0</td>\n",
       "      <td>2017-02-07</td>\n",
       "      <td>True</td>\n",
       "      <td>False</td>\n",
       "      <td>False</td>\n",
       "      <td>False</td>\n",
       "      <td>False</td>\n",
       "      <td>False</td>\n",
       "      <td>4.5</td>\n",
       "      <td>188</td>\n",
       "      <td>846.0</td>\n",
       "      <td>15.47</td>\n",
       "    </tr>\n",
       "    <tr>\n",
       "      <th>7</th>\n",
       "      <td>The Last Castle</td>\n",
       "      <td>Denise Kiernan</td>\n",
       "      <td>Denise Kiernan</td>\n",
       "      <td>37080.0</td>\n",
       "      <td>2017-09-26</td>\n",
       "      <td>True</td>\n",
       "      <td>False</td>\n",
       "      <td>False</td>\n",
       "      <td>False</td>\n",
       "      <td>False</td>\n",
       "      <td>False</td>\n",
       "      <td>4.5</td>\n",
       "      <td>941</td>\n",
       "      <td>4234.5</td>\n",
       "      <td>23.75</td>\n",
       "    </tr>\n",
       "  </tbody>\n",
       "</table>\n",
       "</div>"
      ]
     },
     "execution_count": 24,
     "metadata": {},
     "output_type": "execute_result"
    }
   ],
   "execution_count": 24
  },
  {
   "cell_type": "code",
   "metadata": {
    "ExecuteTime": {
     "end_time": "2024-05-08T02:45:58.043404Z",
     "start_time": "2024-05-08T02:45:58.008085Z"
    }
   },
   "source": "audible_data.describe(include='all')",
   "outputs": [
    {
     "data": {
      "text/plain": [
       "               Name    Author     Narrator  Time in Seconds  \\\n",
       "count         34844     34844        34837          34844.0   \n",
       "unique        33499     22394        12876             <NA>   \n",
       "top     The Odyssey  Pimsleur  Simon Vance             <NA>   \n",
       "freq             12       101          127             <NA>   \n",
       "mean            NaN       NaN          NaN     36275.486167   \n",
       "min             NaN       NaN          NaN            480.0   \n",
       "25%             NaN       NaN          NaN          21780.0   \n",
       "50%             NaN       NaN          NaN          31260.0   \n",
       "75%             NaN       NaN          NaN          42660.0   \n",
       "max             NaN       NaN          NaN         952080.0   \n",
       "std             NaN       NaN          NaN     26253.789288   \n",
       "\n",
       "                         Release Date Language_English Language_French  \\\n",
       "count                           34844            34844           34844   \n",
       "unique                            NaN                2               2   \n",
       "top                               NaN             True           False   \n",
       "freq                              NaN            34264           34817   \n",
       "mean    2018-03-05 23:59:10.407530496              NaN             NaN   \n",
       "min               1998-12-27 00:00:00              NaN             NaN   \n",
       "25%               2015-08-11 00:00:00              NaN             NaN   \n",
       "50%               2019-05-07 00:00:00              NaN             NaN   \n",
       "75%               2021-10-05 00:00:00              NaN             NaN   \n",
       "max               2024-06-11 00:00:00              NaN             NaN   \n",
       "std                               NaN              NaN             NaN   \n",
       "\n",
       "       Language_German Language_Italian Language_Portuguese Language_Spanish  \\\n",
       "count            34844            34844               34844            34844   \n",
       "unique               2                2                   2                2   \n",
       "top              False            False               False            False   \n",
       "freq             34820            34823               34826            34354   \n",
       "mean               NaN              NaN                 NaN              NaN   \n",
       "min                NaN              NaN                 NaN              NaN   \n",
       "25%                NaN              NaN                 NaN              NaN   \n",
       "50%                NaN              NaN                 NaN              NaN   \n",
       "75%                NaN              NaN                 NaN              NaN   \n",
       "max                NaN              NaN                 NaN              NaN   \n",
       "std                NaN              NaN                 NaN              NaN   \n",
       "\n",
       "        Stars (Max: 5)  Number Of Rating Response  Weighted Rating      Price  \n",
       "count          34844.0                    34844.0          34844.0    34844.0  \n",
       "unique            <NA>                       <NA>             <NA>       <NA>  \n",
       "top               <NA>                       <NA>             <NA>       <NA>  \n",
       "freq              <NA>                       <NA>             <NA>       <NA>  \n",
       "mean          4.525629                1086.727299      5052.035372  20.105727  \n",
       "min                1.0                        4.0              6.0       10.0  \n",
       "25%                4.5                       23.0            100.0      15.59  \n",
       "50%                4.5                       79.0            355.0      19.79  \n",
       "75%                5.0                      345.0           1566.5       22.5  \n",
       "max                5.0                   294813.0        1474065.0      70.29  \n",
       "std           0.375031                 5756.10189     27659.412302   5.957095  "
      ],
      "text/html": [
       "<div>\n",
       "<style scoped>\n",
       "    .dataframe tbody tr th:only-of-type {\n",
       "        vertical-align: middle;\n",
       "    }\n",
       "\n",
       "    .dataframe tbody tr th {\n",
       "        vertical-align: top;\n",
       "    }\n",
       "\n",
       "    .dataframe thead th {\n",
       "        text-align: right;\n",
       "    }\n",
       "</style>\n",
       "<table border=\"1\" class=\"dataframe\">\n",
       "  <thead>\n",
       "    <tr style=\"text-align: right;\">\n",
       "      <th></th>\n",
       "      <th>Name</th>\n",
       "      <th>Author</th>\n",
       "      <th>Narrator</th>\n",
       "      <th>Time in Seconds</th>\n",
       "      <th>Release Date</th>\n",
       "      <th>Language_English</th>\n",
       "      <th>Language_French</th>\n",
       "      <th>Language_German</th>\n",
       "      <th>Language_Italian</th>\n",
       "      <th>Language_Portuguese</th>\n",
       "      <th>Language_Spanish</th>\n",
       "      <th>Stars (Max: 5)</th>\n",
       "      <th>Number Of Rating Response</th>\n",
       "      <th>Weighted Rating</th>\n",
       "      <th>Price</th>\n",
       "    </tr>\n",
       "  </thead>\n",
       "  <tbody>\n",
       "    <tr>\n",
       "      <th>count</th>\n",
       "      <td>34844</td>\n",
       "      <td>34844</td>\n",
       "      <td>34837</td>\n",
       "      <td>34844.0</td>\n",
       "      <td>34844</td>\n",
       "      <td>34844</td>\n",
       "      <td>34844</td>\n",
       "      <td>34844</td>\n",
       "      <td>34844</td>\n",
       "      <td>34844</td>\n",
       "      <td>34844</td>\n",
       "      <td>34844.0</td>\n",
       "      <td>34844.0</td>\n",
       "      <td>34844.0</td>\n",
       "      <td>34844.0</td>\n",
       "    </tr>\n",
       "    <tr>\n",
       "      <th>unique</th>\n",
       "      <td>33499</td>\n",
       "      <td>22394</td>\n",
       "      <td>12876</td>\n",
       "      <td>&lt;NA&gt;</td>\n",
       "      <td>NaN</td>\n",
       "      <td>2</td>\n",
       "      <td>2</td>\n",
       "      <td>2</td>\n",
       "      <td>2</td>\n",
       "      <td>2</td>\n",
       "      <td>2</td>\n",
       "      <td>&lt;NA&gt;</td>\n",
       "      <td>&lt;NA&gt;</td>\n",
       "      <td>&lt;NA&gt;</td>\n",
       "      <td>&lt;NA&gt;</td>\n",
       "    </tr>\n",
       "    <tr>\n",
       "      <th>top</th>\n",
       "      <td>The Odyssey</td>\n",
       "      <td>Pimsleur</td>\n",
       "      <td>Simon Vance</td>\n",
       "      <td>&lt;NA&gt;</td>\n",
       "      <td>NaN</td>\n",
       "      <td>True</td>\n",
       "      <td>False</td>\n",
       "      <td>False</td>\n",
       "      <td>False</td>\n",
       "      <td>False</td>\n",
       "      <td>False</td>\n",
       "      <td>&lt;NA&gt;</td>\n",
       "      <td>&lt;NA&gt;</td>\n",
       "      <td>&lt;NA&gt;</td>\n",
       "      <td>&lt;NA&gt;</td>\n",
       "    </tr>\n",
       "    <tr>\n",
       "      <th>freq</th>\n",
       "      <td>12</td>\n",
       "      <td>101</td>\n",
       "      <td>127</td>\n",
       "      <td>&lt;NA&gt;</td>\n",
       "      <td>NaN</td>\n",
       "      <td>34264</td>\n",
       "      <td>34817</td>\n",
       "      <td>34820</td>\n",
       "      <td>34823</td>\n",
       "      <td>34826</td>\n",
       "      <td>34354</td>\n",
       "      <td>&lt;NA&gt;</td>\n",
       "      <td>&lt;NA&gt;</td>\n",
       "      <td>&lt;NA&gt;</td>\n",
       "      <td>&lt;NA&gt;</td>\n",
       "    </tr>\n",
       "    <tr>\n",
       "      <th>mean</th>\n",
       "      <td>NaN</td>\n",
       "      <td>NaN</td>\n",
       "      <td>NaN</td>\n",
       "      <td>36275.486167</td>\n",
       "      <td>2018-03-05 23:59:10.407530496</td>\n",
       "      <td>NaN</td>\n",
       "      <td>NaN</td>\n",
       "      <td>NaN</td>\n",
       "      <td>NaN</td>\n",
       "      <td>NaN</td>\n",
       "      <td>NaN</td>\n",
       "      <td>4.525629</td>\n",
       "      <td>1086.727299</td>\n",
       "      <td>5052.035372</td>\n",
       "      <td>20.105727</td>\n",
       "    </tr>\n",
       "    <tr>\n",
       "      <th>min</th>\n",
       "      <td>NaN</td>\n",
       "      <td>NaN</td>\n",
       "      <td>NaN</td>\n",
       "      <td>480.0</td>\n",
       "      <td>1998-12-27 00:00:00</td>\n",
       "      <td>NaN</td>\n",
       "      <td>NaN</td>\n",
       "      <td>NaN</td>\n",
       "      <td>NaN</td>\n",
       "      <td>NaN</td>\n",
       "      <td>NaN</td>\n",
       "      <td>1.0</td>\n",
       "      <td>4.0</td>\n",
       "      <td>6.0</td>\n",
       "      <td>10.0</td>\n",
       "    </tr>\n",
       "    <tr>\n",
       "      <th>25%</th>\n",
       "      <td>NaN</td>\n",
       "      <td>NaN</td>\n",
       "      <td>NaN</td>\n",
       "      <td>21780.0</td>\n",
       "      <td>2015-08-11 00:00:00</td>\n",
       "      <td>NaN</td>\n",
       "      <td>NaN</td>\n",
       "      <td>NaN</td>\n",
       "      <td>NaN</td>\n",
       "      <td>NaN</td>\n",
       "      <td>NaN</td>\n",
       "      <td>4.5</td>\n",
       "      <td>23.0</td>\n",
       "      <td>100.0</td>\n",
       "      <td>15.59</td>\n",
       "    </tr>\n",
       "    <tr>\n",
       "      <th>50%</th>\n",
       "      <td>NaN</td>\n",
       "      <td>NaN</td>\n",
       "      <td>NaN</td>\n",
       "      <td>31260.0</td>\n",
       "      <td>2019-05-07 00:00:00</td>\n",
       "      <td>NaN</td>\n",
       "      <td>NaN</td>\n",
       "      <td>NaN</td>\n",
       "      <td>NaN</td>\n",
       "      <td>NaN</td>\n",
       "      <td>NaN</td>\n",
       "      <td>4.5</td>\n",
       "      <td>79.0</td>\n",
       "      <td>355.0</td>\n",
       "      <td>19.79</td>\n",
       "    </tr>\n",
       "    <tr>\n",
       "      <th>75%</th>\n",
       "      <td>NaN</td>\n",
       "      <td>NaN</td>\n",
       "      <td>NaN</td>\n",
       "      <td>42660.0</td>\n",
       "      <td>2021-10-05 00:00:00</td>\n",
       "      <td>NaN</td>\n",
       "      <td>NaN</td>\n",
       "      <td>NaN</td>\n",
       "      <td>NaN</td>\n",
       "      <td>NaN</td>\n",
       "      <td>NaN</td>\n",
       "      <td>5.0</td>\n",
       "      <td>345.0</td>\n",
       "      <td>1566.5</td>\n",
       "      <td>22.5</td>\n",
       "    </tr>\n",
       "    <tr>\n",
       "      <th>max</th>\n",
       "      <td>NaN</td>\n",
       "      <td>NaN</td>\n",
       "      <td>NaN</td>\n",
       "      <td>952080.0</td>\n",
       "      <td>2024-06-11 00:00:00</td>\n",
       "      <td>NaN</td>\n",
       "      <td>NaN</td>\n",
       "      <td>NaN</td>\n",
       "      <td>NaN</td>\n",
       "      <td>NaN</td>\n",
       "      <td>NaN</td>\n",
       "      <td>5.0</td>\n",
       "      <td>294813.0</td>\n",
       "      <td>1474065.0</td>\n",
       "      <td>70.29</td>\n",
       "    </tr>\n",
       "    <tr>\n",
       "      <th>std</th>\n",
       "      <td>NaN</td>\n",
       "      <td>NaN</td>\n",
       "      <td>NaN</td>\n",
       "      <td>26253.789288</td>\n",
       "      <td>NaN</td>\n",
       "      <td>NaN</td>\n",
       "      <td>NaN</td>\n",
       "      <td>NaN</td>\n",
       "      <td>NaN</td>\n",
       "      <td>NaN</td>\n",
       "      <td>NaN</td>\n",
       "      <td>0.375031</td>\n",
       "      <td>5756.10189</td>\n",
       "      <td>27659.412302</td>\n",
       "      <td>5.957095</td>\n",
       "    </tr>\n",
       "  </tbody>\n",
       "</table>\n",
       "</div>"
      ]
     },
     "execution_count": 25,
     "metadata": {},
     "output_type": "execute_result"
    }
   ],
   "execution_count": 25
  },
  {
   "cell_type": "code",
   "metadata": {
    "ExecuteTime": {
     "end_time": "2024-05-08T02:45:58.046674Z",
     "start_time": "2024-05-08T02:45:58.044119Z"
    }
   },
   "source": [
    "audible_data.dtypes"
   ],
   "outputs": [
    {
     "data": {
      "text/plain": [
       "Name                                 object\n",
       "Author                               object\n",
       "Narrator                             object\n",
       "Time in Seconds                     Float64\n",
       "Release Date                 datetime64[ns]\n",
       "Language_English                       bool\n",
       "Language_French                        bool\n",
       "Language_German                        bool\n",
       "Language_Italian                       bool\n",
       "Language_Portuguese                    bool\n",
       "Language_Spanish                       bool\n",
       "Stars (Max: 5)                      Float64\n",
       "Number Of Rating Response             Int64\n",
       "Weighted Rating                     Float64\n",
       "Price                               Float64\n",
       "dtype: object"
      ]
     },
     "execution_count": 26,
     "metadata": {},
     "output_type": "execute_result"
    }
   ],
   "execution_count": 26
  },
  {
   "cell_type": "markdown",
   "metadata": {},
   "source": [
    "## Dataset Characteristics"
   ]
  },
  {
   "cell_type": "markdown",
   "metadata": {},
   "source": [
    "### Features and Entries"
   ]
  },
  {
   "cell_type": "code",
   "metadata": {
    "ExecuteTime": {
     "end_time": "2024-05-08T02:45:58.049166Z",
     "start_time": "2024-05-08T02:45:58.047310Z"
    }
   },
   "source": [
    "audible_data.shape"
   ],
   "outputs": [
    {
     "data": {
      "text/plain": [
       "(34844, 15)"
      ]
     },
     "execution_count": 27,
     "metadata": {},
     "output_type": "execute_result"
    }
   ],
   "execution_count": 27
  },
  {
   "cell_type": "markdown",
   "metadata": {},
   "source": [
    "### Audiobook Lengths"
   ]
  },
  {
   "cell_type": "code",
   "metadata": {
    "ExecuteTime": {
     "end_time": "2024-05-08T02:45:58.163960Z",
     "start_time": "2024-05-08T02:45:58.049625Z"
    }
   },
   "source": [
    "sns.boxplot(x=audible_data['Time in Seconds'])\n",
    "plt.draw()"
   ],
   "outputs": [
    {
     "data": {
      "text/plain": [
       "<Figure size 640x480 with 1 Axes>"
      ],
      "image/png": "[encoded data removed]"
     },
     "metadata": {},
     "output_type": "display_data"
    }
   ],
   "execution_count": 28
  },
  {
   "metadata": {},
   "cell_type": "markdown",
   "source": "### Audiobook Languages"
  },
  {
   "metadata": {
    "ExecuteTime": {
     "end_time": "2024-05-08T02:45:58.248948Z",
     "start_time": "2024-05-08T02:45:58.164955Z"
    }
   },
   "cell_type": "code",
   "source": [
    "language_columns = [\n",
    "    'Language_English',\n",
    "    'Language_Spanish',\n",
    "    'Language_French',\n",
    "    'Language_German',\n",
    "    'Language_Italian',\n",
    "    'Language_Portuguese'\n",
    "]\n",
    "language_counts = audible_data[language_columns].sum()\n",
    "sns.barplot(x=language_counts.index.str.replace('Language_', ''), y=language_counts.values)\n",
    "plt.xlabel('Language')\n",
    "plt.ylabel('Count')\n",
    "plt.draw()"
   ],
   "outputs": [
    {
     "data": {
      "text/plain": [
       "<Figure size 640x480 with 1 Axes>"
      ],
      "image/png": "[encoded data removed]"
     },
     "metadata": {},
     "output_type": "display_data"
    }
   ],
   "execution_count": 29
  },
  {
   "cell_type": "markdown",
   "metadata": {},
   "source": "### Audiobook Stars"
  },
  {
   "cell_type": "code",
   "metadata": {
    "ExecuteTime": {
     "end_time": "2024-05-08T02:45:58.353070Z",
     "start_time": "2024-05-08T02:45:58.249809Z"
    }
   },
   "source": [
    "sns.boxplot(x=audible_data['Stars (Max: 5)'])\n",
    "plt.draw()"
   ],
   "outputs": [
    {
     "data": {
      "text/plain": [
       "<Figure size 640x480 with 1 Axes>"
      ],
      "image/png": "[encoded data removed]"
     },
     "metadata": {},
     "output_type": "display_data"
    }
   ],
   "execution_count": 30
  },
  {
   "metadata": {},
   "cell_type": "markdown",
   "source": "### Audiobook Weighted Ratings"
  },
  {
   "metadata": {
    "ExecuteTime": {
     "end_time": "2024-05-08T02:45:58.468575Z",
     "start_time": "2024-05-08T02:45:58.353603Z"
    }
   },
   "cell_type": "code",
   "source": [
    "sns.boxplot(x=audible_data['Weighted Rating'])\n",
    "plt.draw()"
   ],
   "outputs": [
    {
     "data": {
      "text/plain": [
       "<Figure size 640x480 with 1 Axes>"
      ],
      "image/png": "[encoded data removed]"
     },
     "metadata": {},
     "output_type": "display_data"
    }
   ],
   "execution_count": 31
  },
  {
   "cell_type": "markdown",
   "metadata": {},
   "source": [
    "### Audiobook Prices"
   ]
  },
  {
   "cell_type": "code",
   "source": [
    "sns.boxplot(x=audible_data['Price'])\n",
    "plt.draw()"
   ],
   "metadata": {
    "ExecuteTime": {
     "end_time": "2024-05-08T02:45:58.612106Z",
     "start_time": "2024-05-08T02:45:58.469898Z"
    }
   },
   "outputs": [
    {
     "data": {
      "text/plain": [
       "<Figure size 640x480 with 1 Axes>"
      ],
      "image/png": "[encoded data removed]"
     },
     "metadata": {},
     "output_type": "display_data"
    }
   ],
   "execution_count": 32
  },
  {
   "metadata": {},
   "cell_type": "markdown",
   "source": "### Conclusion"
  },
  {
   "metadata": {},
   "cell_type": "markdown",
   "source": [
    "* The dataset consists of 34844 entries and 125 features.\n",
    "* The plot for Audiobook Lengths is skewed right, having most audiobooks under 100000 seconds.  \n",
    "  Several outliers indicate that some audiobooks are longer than the rest.  \n",
    "* The plot for Audiobook Languages shows the majority of audiobooks are in English.\n",
    "* The plot for Audiobook Stars is heavily skewed left with few outliers.  \n",
    "* The plot for Audiobook Weighted Rating is heavily skewed right with many outliers.\n",
    "* The plot for Audiobook Prices is skewed right, having most audiobook prices under 40.  \n",
    "  Several outliers indicate that some audiobook prices fall into the range of 40 to 60, with a few higher than 60."
   ]
  },
  {
   "metadata": {},
   "cell_type": "markdown",
   "source": "## Further Data Process Based on Dataset Characteristics"
  },
  {
   "metadata": {},
   "cell_type": "markdown",
   "source": "### Remove Length Outliers"
  },
  {
   "metadata": {
    "ExecuteTime": {
     "end_time": "2024-05-08T02:45:58.622444Z",
     "start_time": "2024-05-08T02:45:58.613765Z"
    }
   },
   "cell_type": "code",
   "source": [
    "print(f'Size of Dataset before Removing: {audible_data.shape}')\n",
    "audible_data = audible_data[audible_data['Time in Seconds'] <= 300000]\n",
    "print(f'Size of Dataset after Removing: {audible_data.shape}')"
   ],
   "outputs": [
    {
     "name": "stdout",
     "output_type": "stream",
     "text": [
      "Size of Dataset before Removing: (34844, 15)\n",
      "Size of Dataset after Removing: (34822, 15)\n"
     ]
    }
   ],
   "execution_count": 33
  },
  {
   "metadata": {
    "ExecuteTime": {
     "end_time": "2024-05-08T02:45:58.724430Z",
     "start_time": "2024-05-08T02:45:58.624184Z"
    }
   },
   "cell_type": "code",
   "source": [
    "sns.boxplot(x=audible_data['Time in Seconds'])\n",
    "plt.draw()"
   ],
   "outputs": [
    {
     "data": {
      "text/plain": [
       "<Figure size 640x480 with 1 Axes>"
      ],
      "image/png": "[encoded data removed]"
     },
     "metadata": {},
     "output_type": "display_data"
    }
   ],
   "execution_count": 34
  },
  {
   "metadata": {},
   "cell_type": "markdown",
   "source": "### Log Transformation for Weighted Ratings"
  },
  {
   "metadata": {},
   "cell_type": "markdown",
   "source": "As the weighted rating is heavily skewed to the right, applying a log transformation helps mitigate this skew."
  },
  {
   "metadata": {
    "ExecuteTime": {
     "end_time": "2024-05-08T02:45:58.823276Z",
     "start_time": "2024-05-08T02:45:58.725235Z"
    }
   },
   "cell_type": "code",
   "source": [
    "audible_data['Weighted Rating'] = np.log1p(audible_data['Weighted Rating'])\n",
    "sns.boxplot(x=audible_data['Weighted Rating'])\n",
    "plt.draw()"
   ],
   "outputs": [
    {
     "data": {
      "text/plain": [
       "<Figure size 640x480 with 1 Axes>"
      ],
      "image/png": "[encoded data removed]"
     },
     "metadata": {},
     "output_type": "display_data"
    }
   ],
   "execution_count": 35
  },
  {
   "metadata": {},
   "cell_type": "markdown",
   "source": "## Statistical Tests"
  },
  {
   "metadata": {},
   "cell_type": "markdown",
   "source": "### Audiobook Lengths vs. Prices"
  },
  {
   "metadata": {
    "ExecuteTime": {
     "end_time": "2024-05-08T02:45:58.958834Z",
     "start_time": "2024-05-08T02:45:58.823888Z"
    }
   },
   "cell_type": "code",
   "source": [
    "plt.scatter(audible_data['Time in Seconds'], audible_data['Price'])\n",
    "plt.title('Relationship between Audiobook Length and Price')\n",
    "plt.xlabel('Length (seconds)')\n",
    "plt.ylabel('Price')\n",
    "plt.draw()"
   ],
   "outputs": [
    {
     "data": {
      "text/plain": [
       "<Figure size 640x480 with 1 Axes>"
      ],
      "image/png": "[encoded data removed]"
     },
     "metadata": {},
     "output_type": "display_data"
    }
   ],
   "execution_count": 36
  },
  {
   "cell_type": "code",
   "source": [
    "_, p_value = pearsonr(audible_data['Time in Seconds'], audible_data['Price'])\n",
    "p_value"
   ],
   "metadata": {
    "ExecuteTime": {
     "end_time": "2024-05-08T02:45:59.021564Z",
     "start_time": "2024-05-08T02:45:58.959614Z"
    }
   },
   "outputs": [
    {
     "data": {
      "text/plain": [
       "0.0"
      ]
     },
     "execution_count": 37,
     "metadata": {},
     "output_type": "execute_result"
    }
   ],
   "execution_count": 37
  },
  {
   "cell_type": "markdown",
   "source": "### Audiobook Stars vs. Prices",
   "metadata": {}
  },
  {
   "cell_type": "code",
   "source": [
    "plt.scatter(audible_data['Stars (Max: 5)'], audible_data['Price'])\n",
    "plt.title('Relationship between Audiobook Star and Price')\n",
    "plt.xlabel('Stars (Max: 5)')\n",
    "plt.ylabel('Price')\n",
    "plt.draw()"
   ],
   "metadata": {
    "ExecuteTime": {
     "end_time": "2024-05-08T02:45:59.241958Z",
     "start_time": "2024-05-08T02:45:59.027099Z"
    }
   },
   "outputs": [
    {
     "data": {
      "text/plain": [
       "<Figure size 640x480 with 1 Axes>"
      ],
      "image/png": "[encoded data removed]"
     },
     "metadata": {},
     "output_type": "display_data"
    }
   ],
   "execution_count": 38
  },
  {
   "metadata": {
    "ExecuteTime": {
     "end_time": "2024-05-08T02:45:59.257891Z",
     "start_time": "2024-05-08T02:45:59.246040Z"
    }
   },
   "cell_type": "code",
   "source": [
    "rating_mean = audible_data['Stars (Max: 5)'].mean()\n",
    "_, p_value = ttest_ind(\n",
    "    audible_data[audible_data['Stars (Max: 5)'] < rating_mean]['Price'],\n",
    "    audible_data[audible_data['Stars (Max: 5)'] >= rating_mean]['Price'],\n",
    "    equal_var=False\n",
    ")\n",
    "p_value"
   ],
   "outputs": [
    {
     "data": {
      "text/plain": [
       "7.595313288050364e-07"
      ]
     },
     "execution_count": 39,
     "metadata": {},
     "output_type": "execute_result"
    }
   ],
   "execution_count": 39
  },
  {
   "metadata": {},
   "cell_type": "markdown",
   "source": "### Audiobook Weighted Ratings vs. Prices"
  },
  {
   "metadata": {
    "ExecuteTime": {
     "end_time": "2024-05-08T02:45:59.392321Z",
     "start_time": "2024-05-08T02:45:59.258998Z"
    }
   },
   "cell_type": "code",
   "source": [
    "plt.scatter(audible_data['Weighted Rating'], audible_data['Price'])\n",
    "plt.title('Relationship between Audiobook Weighted Rating and Price')\n",
    "plt.xlabel('Weighted Rating')\n",
    "plt.ylabel('Price')\n",
    "plt.draw()"
   ],
   "outputs": [
    {
     "data": {
      "text/plain": [
       "<Figure size 640x480 with 1 Axes>"
      ],
      "image/png": "[encoded data removed]"
     },
     "metadata": {},
     "output_type": "display_data"
    }
   ],
   "execution_count": 40
  },
  {
   "metadata": {
    "ExecuteTime": {
     "end_time": "2024-05-08T02:45:59.480860Z",
     "start_time": "2024-05-08T02:45:59.393160Z"
    }
   },
   "cell_type": "code",
   "source": [
    "_, p_value = pearsonr(audible_data['Weighted Rating'], audible_data['Price'])\n",
    "p_value"
   ],
   "outputs": [
    {
     "data": {
      "text/plain": [
       "4.664858814107088e-207"
      ]
     },
     "execution_count": 41,
     "metadata": {},
     "output_type": "execute_result"
    }
   ],
   "execution_count": 41
  },
  {
   "cell_type": "markdown",
   "source": "### Conclusion",
   "metadata": {
    "collapsed": false
   }
  },
  {
   "cell_type": "markdown",
   "metadata": {},
   "source": [
    "|      A[^1]      | B[^1]  | Test Type |  P-Value   | Reject/Fail to Reject[^2] | Correlation[^3] |\n",
    "|:---------------:|:------:|:---------:|:----------:|:-------------------------:|:---------------:|\n",
    "|     Length      | Price  |  Pearson  |    0.0     |          Reject           |       Yes       |\n",
    "|      Star       | Price  |  T Test   |  7.595e-7  |          Reject           |       Yes       |\n",
    "| Weighted Rating | Price  |  Pearson  | 4.665e-207 |          Reject           |       Yes       |\n",
    "  \n",
    "[^1]: A and B: This row investigate the relationship between A and B. With the following hypotheses:  \n",
    "Null Hypothesis: There is no correlation between A and B.  \n",
    "Alternative Hypothesis: There is a correlation between A and B.  \n",
    "[^2]: Reject/Fail to Reject: Based on the P-Value, reject or fail to reject the Null Hypothesis.  \n",
    "[^3]: Correlation: There is/is no correlation between A and B."
   ]
  },
  {
   "metadata": {},
   "cell_type": "markdown",
   "source": "## Save Further Processed Dataset"
  },
  {
   "metadata": {
    "ExecuteTime": {
     "end_time": "2024-05-08T02:45:59.614080Z",
     "start_time": "2024-05-08T02:45:59.536895Z"
    }
   },
   "cell_type": "code",
   "source": [
    "audible_data = audible_data.filter(items=['Time in Seconds', 'Stars (Max: 5)', 'Weighted Rating', 'Price'])\n",
    "audible_data.to_csv(data_folder + '/audible_further.csv', index=False)"
   ],
   "outputs": [],
   "execution_count": 42
  },
  {
   "metadata": {},
   "cell_type": "markdown",
   "source": "<h1 style=\"text-align: center;\">Primary Analysis</h1>"
  },
  {
   "metadata": {
    "ExecuteTime": {
     "end_time": "2024-05-08T02:45:59.629815Z",
     "start_time": "2024-05-08T02:45:59.618637Z"
    }
   },
   "cell_type": "code",
   "source": "audible_data.head()",
   "outputs": [
    {
     "data": {
      "text/plain": [
       "   Time in Seconds  Stars (Max: 5)  Weighted Rating  Price\n",
       "0          59580.0             4.5         10.27424   22.5\n",
       "2         110700.0             4.0         2.833213  30.09\n",
       "4          33480.0             4.5         5.666427  15.47\n",
       "6          37740.0             4.5         6.741701  15.47\n",
       "7          37080.0             4.5         8.351257  23.75"
      ],
      "text/html": [
       "<div>\n",
       "<style scoped>\n",
       "    .dataframe tbody tr th:only-of-type {\n",
       "        vertical-align: middle;\n",
       "    }\n",
       "\n",
       "    .dataframe tbody tr th {\n",
       "        vertical-align: top;\n",
       "    }\n",
       "\n",
       "    .dataframe thead th {\n",
       "        text-align: right;\n",
       "    }\n",
       "</style>\n",
       "<table border=\"1\" class=\"dataframe\">\n",
       "  <thead>\n",
       "    <tr style=\"text-align: right;\">\n",
       "      <th></th>\n",
       "      <th>Time in Seconds</th>\n",
       "      <th>Stars (Max: 5)</th>\n",
       "      <th>Weighted Rating</th>\n",
       "      <th>Price</th>\n",
       "    </tr>\n",
       "  </thead>\n",
       "  <tbody>\n",
       "    <tr>\n",
       "      <th>0</th>\n",
       "      <td>59580.0</td>\n",
       "      <td>4.5</td>\n",
       "      <td>10.27424</td>\n",
       "      <td>22.5</td>\n",
       "    </tr>\n",
       "    <tr>\n",
       "      <th>2</th>\n",
       "      <td>110700.0</td>\n",
       "      <td>4.0</td>\n",
       "      <td>2.833213</td>\n",
       "      <td>30.09</td>\n",
       "    </tr>\n",
       "    <tr>\n",
       "      <th>4</th>\n",
       "      <td>33480.0</td>\n",
       "      <td>4.5</td>\n",
       "      <td>5.666427</td>\n",
       "      <td>15.47</td>\n",
       "    </tr>\n",
       "    <tr>\n",
       "      <th>6</th>\n",
       "      <td>37740.0</td>\n",
       "      <td>4.5</td>\n",
       "      <td>6.741701</td>\n",
       "      <td>15.47</td>\n",
       "    </tr>\n",
       "    <tr>\n",
       "      <th>7</th>\n",
       "      <td>37080.0</td>\n",
       "      <td>4.5</td>\n",
       "      <td>8.351257</td>\n",
       "      <td>23.75</td>\n",
       "    </tr>\n",
       "  </tbody>\n",
       "</table>\n",
       "</div>"
      ]
     },
     "execution_count": 43,
     "metadata": {},
     "output_type": "execute_result"
    }
   ],
   "execution_count": 43
  },
  {
   "metadata": {
    "ExecuteTime": {
     "end_time": "2024-05-08T02:45:59.651508Z",
     "start_time": "2024-05-08T02:45:59.637079Z"
    }
   },
   "cell_type": "code",
   "source": "audible_data.describe(include='all')",
   "outputs": [
    {
     "data": {
      "text/plain": [
       "       Time in Seconds  Stars (Max: 5)  Weighted Rating      Price\n",
       "count          34822.0         34822.0          34822.0    34822.0\n",
       "mean      36033.213486        4.525745         6.121637  20.097827\n",
       "std       24099.664767         0.37496         1.990786   5.947675\n",
       "min              480.0             1.0          1.94591       10.0\n",
       "25%            21780.0             4.5         4.615121      15.59\n",
       "50%            31260.0             4.5         5.874931      19.79\n",
       "75%            42660.0             5.0         7.357875       22.5\n",
       "max           299460.0             5.0        14.203535      70.29"
      ],
      "text/html": [
       "<div>\n",
       "<style scoped>\n",
       "    .dataframe tbody tr th:only-of-type {\n",
       "        vertical-align: middle;\n",
       "    }\n",
       "\n",
       "    .dataframe tbody tr th {\n",
       "        vertical-align: top;\n",
       "    }\n",
       "\n",
       "    .dataframe thead th {\n",
       "        text-align: right;\n",
       "    }\n",
       "</style>\n",
       "<table border=\"1\" class=\"dataframe\">\n",
       "  <thead>\n",
       "    <tr style=\"text-align: right;\">\n",
       "      <th></th>\n",
       "      <th>Time in Seconds</th>\n",
       "      <th>Stars (Max: 5)</th>\n",
       "      <th>Weighted Rating</th>\n",
       "      <th>Price</th>\n",
       "    </tr>\n",
       "  </thead>\n",
       "  <tbody>\n",
       "    <tr>\n",
       "      <th>count</th>\n",
       "      <td>34822.0</td>\n",
       "      <td>34822.0</td>\n",
       "      <td>34822.0</td>\n",
       "      <td>34822.0</td>\n",
       "    </tr>\n",
       "    <tr>\n",
       "      <th>mean</th>\n",
       "      <td>36033.213486</td>\n",
       "      <td>4.525745</td>\n",
       "      <td>6.121637</td>\n",
       "      <td>20.097827</td>\n",
       "    </tr>\n",
       "    <tr>\n",
       "      <th>std</th>\n",
       "      <td>24099.664767</td>\n",
       "      <td>0.37496</td>\n",
       "      <td>1.990786</td>\n",
       "      <td>5.947675</td>\n",
       "    </tr>\n",
       "    <tr>\n",
       "      <th>min</th>\n",
       "      <td>480.0</td>\n",
       "      <td>1.0</td>\n",
       "      <td>1.94591</td>\n",
       "      <td>10.0</td>\n",
       "    </tr>\n",
       "    <tr>\n",
       "      <th>25%</th>\n",
       "      <td>21780.0</td>\n",
       "      <td>4.5</td>\n",
       "      <td>4.615121</td>\n",
       "      <td>15.59</td>\n",
       "    </tr>\n",
       "    <tr>\n",
       "      <th>50%</th>\n",
       "      <td>31260.0</td>\n",
       "      <td>4.5</td>\n",
       "      <td>5.874931</td>\n",
       "      <td>19.79</td>\n",
       "    </tr>\n",
       "    <tr>\n",
       "      <th>75%</th>\n",
       "      <td>42660.0</td>\n",
       "      <td>5.0</td>\n",
       "      <td>7.357875</td>\n",
       "      <td>22.5</td>\n",
       "    </tr>\n",
       "    <tr>\n",
       "      <th>max</th>\n",
       "      <td>299460.0</td>\n",
       "      <td>5.0</td>\n",
       "      <td>14.203535</td>\n",
       "      <td>70.29</td>\n",
       "    </tr>\n",
       "  </tbody>\n",
       "</table>\n",
       "</div>"
      ]
     },
     "execution_count": 44,
     "metadata": {},
     "output_type": "execute_result"
    }
   ],
   "execution_count": 44
  },
  {
   "metadata": {
    "ExecuteTime": {
     "end_time": "2024-05-08T02:45:59.660397Z",
     "start_time": "2024-05-08T02:45:59.654074Z"
    }
   },
   "cell_type": "code",
   "source": "audible_data.dtypes",
   "outputs": [
    {
     "data": {
      "text/plain": [
       "Time in Seconds    Float64\n",
       "Stars (Max: 5)     Float64\n",
       "Weighted Rating    Float64\n",
       "Price              Float64\n",
       "dtype: object"
      ]
     },
     "execution_count": 45,
     "metadata": {},
     "output_type": "execute_result"
    }
   ],
   "execution_count": 45
  },
  {
   "metadata": {},
   "cell_type": "markdown",
   "source": "All of the feature data and the label are in Float64, meaning we are going to use numeric data to predict a numeric value. As a result, we will develop regressors with machine learning to predict prices."
  },
  {
   "metadata": {},
   "cell_type": "markdown",
   "source": "## Prepare the Dataset"
  },
  {
   "metadata": {
    "ExecuteTime": {
     "end_time": "2024-05-08T02:45:59.663813Z",
     "start_time": "2024-05-08T02:45:59.661601Z"
    }
   },
   "cell_type": "code",
   "source": "random_state = 42",
   "outputs": [],
   "execution_count": 46
  },
  {
   "metadata": {},
   "cell_type": "markdown",
   "source": "### Split the Dataset into Training and Test Sets"
  },
  {
   "metadata": {
    "ExecuteTime": {
     "end_time": "2024-05-08T02:45:59.676413Z",
     "start_time": "2024-05-08T02:45:59.669424Z"
    }
   },
   "cell_type": "code",
   "source": [
    "X_train, X_test, y_train, y_test = train_test_split(\n",
    "    audible_data[['Time in Seconds', 'Stars (Max: 5)', 'Weighted Rating']],\n",
    "    audible_data['Price'], test_size=0.1, random_state=random_state\n",
    ")"
   ],
   "outputs": [],
   "execution_count": 47
  },
  {
   "metadata": {},
   "cell_type": "markdown",
   "source": "### Split the Training Set Further into Training and Validation Sets"
  },
  {
   "metadata": {
    "ExecuteTime": {
     "end_time": "2024-05-08T02:45:59.681276Z",
     "start_time": "2024-05-08T02:45:59.677201Z"
    }
   },
   "cell_type": "code",
   "source": "X_train_further, X_valid, y_train_further, y_valid = train_test_split(X_train, y_train, test_size=0.1, random_state=random_state)",
   "outputs": [],
   "execution_count": 48
  },
  {
   "metadata": {},
   "cell_type": "markdown",
   "source": "### Standardization"
  },
  {
   "metadata": {
    "ExecuteTime": {
     "end_time": "2024-05-08T02:45:59.691751Z",
     "start_time": "2024-05-08T02:45:59.681994Z"
    }
   },
   "cell_type": "code",
   "source": [
    "scaler = StandardScaler()\n",
    "X_train_scaled = scaler.fit_transform(X_train)\n",
    "X_train_further_scaled = scaler.fit_transform(X_train_further)\n",
    "X_valid_scaled = scaler.transform(X_valid)\n",
    "X_test_scaled = scaler.transform(X_test)"
   ],
   "outputs": [],
   "execution_count": 49
  },
  {
   "metadata": {},
   "cell_type": "markdown",
   "source": "### Create a Dict() to Store Model and Metrics"
  },
  {
   "metadata": {
    "ExecuteTime": {
     "end_time": "2024-05-08T02:45:59.694206Z",
     "start_time": "2024-05-08T02:45:59.692304Z"
    }
   },
   "cell_type": "code",
   "source": [
    "models = dict()\n",
    "# {name: model, model_type, model_type_color, mse_test, r2_test, r2_valid}\n",
    "show_metrics = lambda models_dict : sorted([(key, value[1:]) for key, value in models_dict.items()], key=lambda items: items[1][3], reverse=True)"
   ],
   "outputs": [],
   "execution_count": 50
  },
  {
   "metadata": {},
   "cell_type": "markdown",
   "source": "## Train Models"
  },
  {
   "metadata": {
    "ExecuteTime": {
     "end_time": "2024-05-08T02:45:59.696794Z",
     "start_time": "2024-05-08T02:45:59.694984Z"
    }
   },
   "cell_type": "code",
   "source": [
    "def train(_model):\n",
    "    _model.fit(X_train_further_scaled, y_train_further)\n",
    "    r2_valid = r2_score(y_valid, _model.predict(X_valid_scaled))\n",
    "    _y_pred = _model.predict(X_test_scaled)\n",
    "    mse_test = mean_squared_error(y_test, _y_pred)\n",
    "    r2_test = r2_score(y_test, _y_pred)\n",
    "    return mse_test, r2_test, r2_valid"
   ],
   "outputs": [],
   "execution_count": 51
  },
  {
   "metadata": {},
   "cell_type": "markdown",
   "source": "### K-Nearest Neighbors"
  },
  {
   "metadata": {
    "ExecuteTime": {
     "end_time": "2024-05-08T02:46:00.443480Z",
     "start_time": "2024-05-08T02:45:59.697439Z"
    }
   },
   "cell_type": "code",
   "source": [
    "models_local = dict()\n",
    "for n in tqdm([3, 5, 10, 25, 50, 100, 250]):\n",
    "    model = KNeighborsRegressor(n_neighbors=n)\n",
    "    models_local[f'K-Nearest Neighbors with N = {n}'] = [model, 'K-Nearest', 'green', *train(model)]\n",
    "models |= models_local\n",
    "show_metrics(models_local)"
   ],
   "outputs": [
    {
     "name": "stderr",
     "output_type": "stream",
     "text": [
      "100%|██████████| 7/7 [00:00<00:00,  9.67it/s]\n"
     ]
    },
    {
     "data": {
      "text/plain": [
       "[('K-Nearest Neighbors with N = 100',\n",
       "  ['K-Nearest',\n",
       "   'green',\n",
       "   17.265296598825728,\n",
       "   0.5171665214654109,\n",
       "   0.5173467494425481]),\n",
       " ('K-Nearest Neighbors with N = 50',\n",
       "  ['K-Nearest',\n",
       "   'green',\n",
       "   17.344936021866207,\n",
       "   0.5149393613679853,\n",
       "   0.5184000599812078]),\n",
       " ('K-Nearest Neighbors with N = 250',\n",
       "  ['K-Nearest',\n",
       "   'green',\n",
       "   17.400004180538613,\n",
       "   0.5133993501404862,\n",
       "   0.5116008389361979]),\n",
       " ('K-Nearest Neighbors with N = 25',\n",
       "  ['K-Nearest',\n",
       "   'green',\n",
       "   17.602209736388172,\n",
       "   0.5077445609886739,\n",
       "   0.5125936967352959]),\n",
       " ('K-Nearest Neighbors with N = 10',\n",
       "  ['K-Nearest',\n",
       "   'green',\n",
       "   18.636439495549812,\n",
       "   0.47882175914963865,\n",
       "   0.4810346649512155]),\n",
       " ('K-Nearest Neighbors with N = 5',\n",
       "  ['K-Nearest',\n",
       "   'green',\n",
       "   19.96175402583979,\n",
       "   0.44175861220921087,\n",
       "   0.44735685923979684]),\n",
       " ('K-Nearest Neighbors with N = 3',\n",
       "  ['K-Nearest',\n",
       "   'green',\n",
       "   22.145649660254566,\n",
       "   0.38068477430058756,\n",
       "   0.38979590795538255])]"
      ]
     },
     "execution_count": 52,
     "metadata": {},
     "output_type": "execute_result"
    }
   ],
   "execution_count": 52
  },
  {
   "metadata": {},
   "cell_type": "markdown",
   "source": "### Linear Regression"
  },
  {
   "metadata": {
    "ExecuteTime": {
     "end_time": "2024-05-08T02:46:00.554389Z",
     "start_time": "2024-05-08T02:46:00.444329Z"
    }
   },
   "cell_type": "code",
   "source": [
    "models_local = dict()\n",
    "model = LinearRegression()\n",
    "models_local['Linear Regression'] = [model, 'Regression', 'cyan', *train(model)]\n",
    "models |= models_local\n",
    "show_metrics(models_local)"
   ],
   "outputs": [
    {
     "data": {
      "text/plain": [
       "[('Linear Regression',\n",
       "  ['Regression',\n",
       "   'cyan',\n",
       "   19.457258048269267,\n",
       "   0.4558671186204851,\n",
       "   0.4348573013351428])]"
      ]
     },
     "execution_count": 53,
     "metadata": {},
     "output_type": "execute_result"
    }
   ],
   "execution_count": 53
  },
  {
   "metadata": {},
   "cell_type": "markdown",
   "source": "### Polynomial Regressions"
  },
  {
   "metadata": {
    "ExecuteTime": {
     "end_time": "2024-05-08T02:46:09.117068Z",
     "start_time": "2024-05-08T02:46:00.563060Z"
    }
   },
   "cell_type": "code",
   "source": [
    "models_local = dict()\n",
    "# grid search for best regressor and degree\n",
    "for name, regressor in tqdm([\n",
    "    ('Polynomial Regression', LinearRegression()),\n",
    "    ('Lasso Regression', Lasso(alpha=0.01, max_iter=5000)),\n",
    "    ('Ridge Regression', Ridge(alpha=0.01, max_iter=5000)),\n",
    "    ('Elastic Net', ElasticNet(alpha=0.01, max_iter=5000)),\n",
    "    ('Bayesian ARD Regression', ARDRegression()),\n",
    "    ('Bayesian Ridge Regression', BayesianRidge())\n",
    "]):\n",
    "    for degree in range(2, 5):\n",
    "        model = make_pipeline(PolynomialFeatures(degree), regressor)\n",
    "        models_local[f'{name} with Degree {degree}'] = [model, 'Regression', 'cyan', *train(model)]\n",
    "models |= models_local\n",
    "show_metrics(models_local)"
   ],
   "outputs": [
    {
     "name": "stderr",
     "output_type": "stream",
     "text": [
      "100%|██████████| 6/6 [00:08<00:00,  1.42s/it]\n"
     ]
    },
    {
     "data": {
      "text/plain": [
       "[('Bayesian ARD Regression with Degree 4',\n",
       "  ['Regression',\n",
       "   'cyan',\n",
       "   17.416950322806137,\n",
       "   0.5129254419876819,\n",
       "   0.5107273434570418]),\n",
       " ('Lasso Regression with Degree 3',\n",
       "  ['Regression',\n",
       "   'cyan',\n",
       "   17.425383043873627,\n",
       "   0.5126896163229895,\n",
       "   0.5097765144362387]),\n",
       " ('Bayesian ARD Regression with Degree 3',\n",
       "  ['Regression',\n",
       "   'cyan',\n",
       "   17.426279670049812,\n",
       "   0.5126645416807373,\n",
       "   0.5101841606331945]),\n",
       " ('Elastic Net with Degree 3',\n",
       "  ['Regression',\n",
       "   'cyan',\n",
       "   17.43163350897638,\n",
       "   0.5125148186419449,\n",
       "   0.5095674876867979]),\n",
       " ('Bayesian Ridge Regression with Degree 3',\n",
       "  ['Regression',\n",
       "   'cyan',\n",
       "   17.433877005843435,\n",
       "   0.5124520780229117,\n",
       "   0.5101314842309064]),\n",
       " ('Ridge Regression with Degree 3',\n",
       "  ['Regression',\n",
       "   'cyan',\n",
       "   17.434062333976932,\n",
       "   0.5124468952201227,\n",
       "   0.5101579804972567]),\n",
       " ('Polynomial Regression with Degree 3',\n",
       "  ['Regression',\n",
       "   'cyan',\n",
       "   17.434062514844936,\n",
       "   0.5124468901620498,\n",
       "   0.5101580038648863]),\n",
       " ('Lasso Regression with Degree 2',\n",
       "  ['Regression',\n",
       "   'cyan',\n",
       "   17.487777069927034,\n",
       "   0.5109447332005534,\n",
       "   0.5066360946091577]),\n",
       " ('Bayesian ARD Regression with Degree 2',\n",
       "  ['Regression',\n",
       "   'cyan',\n",
       "   17.48850382347693,\n",
       "   0.5109244091393637,\n",
       "   0.5068951760852152]),\n",
       " ('Polynomial Regression with Degree 2',\n",
       "  ['Regression',\n",
       "   'cyan',\n",
       "   17.49074794272523,\n",
       "   0.510861651115098,\n",
       "   0.5068999947766538]),\n",
       " ('Ridge Regression with Degree 2',\n",
       "  ['Regression',\n",
       "   'cyan',\n",
       "   17.490748325825788,\n",
       "   0.510861640401481,\n",
       "   0.5068999665314406]),\n",
       " ('Bayesian Ridge Regression with Degree 2',\n",
       "  ['Regression',\n",
       "   'cyan',\n",
       "   17.490973559638025,\n",
       "   0.5108553416145227,\n",
       "   0.5068834731170133]),\n",
       " ('Elastic Net with Degree 2',\n",
       "  ['Regression',\n",
       "   'cyan',\n",
       "   17.49655957401725,\n",
       "   0.5106991256619946,\n",
       "   0.506321797709716]),\n",
       " ('Lasso Regression with Degree 4',\n",
       "  ['Regression',\n",
       "   'cyan',\n",
       "   17.542806432091457,\n",
       "   0.5094058069386556,\n",
       "   0.5136470081877604]),\n",
       " ('Elastic Net with Degree 4',\n",
       "  ['Regression',\n",
       "   'cyan',\n",
       "   17.564576762791425,\n",
       "   0.5087969877133067,\n",
       "   0.5130635150092675]),\n",
       " ('Polynomial Regression with Degree 4',\n",
       "  ['Regression',\n",
       "   'cyan',\n",
       "   17.573222031512138,\n",
       "   0.5085552180370434,\n",
       "   0.5139848064110224]),\n",
       " ('Ridge Regression with Degree 4',\n",
       "  ['Regression',\n",
       "   'cyan',\n",
       "   17.573222210449085,\n",
       "   0.5085552130329738,\n",
       "   0.5139847570014558]),\n",
       " ('Bayesian Ridge Regression with Degree 4',\n",
       "  ['Regression',\n",
       "   'cyan',\n",
       "   17.57366400915718,\n",
       "   0.5085428578900533,\n",
       "   0.513882818063278])]"
      ]
     },
     "execution_count": 54,
     "metadata": {},
     "output_type": "execute_result"
    }
   ],
   "execution_count": 54
  },
  {
   "metadata": {
    "ExecuteTime": {
     "end_time": "2024-05-08T02:46:09.128702Z",
     "start_time": "2024-05-08T02:46:09.124853Z"
    }
   },
   "cell_type": "code",
   "source": "best_poly_degree = 3",
   "outputs": [],
   "execution_count": 55
  },
  {
   "metadata": {},
   "cell_type": "markdown",
   "source": "### Support Vector Machine (SVM)"
  },
  {
   "metadata": {
    "ExecuteTime": {
     "end_time": "2024-05-08T02:50:44.366580Z",
     "start_time": "2024-05-08T02:46:09.130401Z"
    }
   },
   "cell_type": "code",
   "source": [
    "models_local = dict()\n",
    "# grid search for best kernel and C\n",
    "for kernel in tqdm(['linear', 'poly', 'rbf']):\n",
    "    for C in [0.01, 0.1, 1, 10]:\n",
    "        model = SVR(kernel=kernel, C=C, degree=best_poly_degree)\n",
    "        models_local[f'Support Vector Machine with {kernel} kernel and C = {C}'] = [model, 'SVM', 'blue', *train(model)]\n",
    "models |= models_local\n",
    "show_metrics(models_local)"
   ],
   "outputs": [
    {
     "name": "stderr",
     "output_type": "stream",
     "text": [
      "100%|██████████| 3/3 [04:35<00:00, 91.74s/it] \n"
     ]
    },
    {
     "data": {
      "text/plain": [
       "[('Support Vector Machine with rbf kernel and C = 1',\n",
       "  ['SVM', 'blue', 17.792408451528708, 0.5024255497154844, 0.5016784641749399]),\n",
       " ('Support Vector Machine with rbf kernel and C = 10',\n",
       "  ['SVM', 'blue', 17.85302173152824, 0.5007304661320633, 0.503827520786478]),\n",
       " ('Support Vector Machine with rbf kernel and C = 0.1',\n",
       "  ['SVM',\n",
       "   'blue',\n",
       "   18.628584980643733,\n",
       "   0.47904141496224495,\n",
       "   0.4810615640030459]),\n",
       " ('Support Vector Machine with linear kernel and C = 0.01',\n",
       "  ['SVM', 'blue', 19.99852227522114, 0.4407303679710186, 0.41406092371931913]),\n",
       " ('Support Vector Machine with linear kernel and C = 0.1',\n",
       "  ['SVM', 'blue', 20.07160925507066, 0.43868645053731925, 0.4118414095843328]),\n",
       " ('Support Vector Machine with linear kernel and C = 1',\n",
       "  ['SVM',\n",
       "   'blue',\n",
       "   20.083798429353546,\n",
       "   0.43834557360040804,\n",
       "   0.4114733466753454]),\n",
       " ('Support Vector Machine with linear kernel and C = 10',\n",
       "  ['SVM',\n",
       "   'blue',\n",
       "   20.084621971327977,\n",
       "   0.4383225427978986,\n",
       "   0.41145032226219447]),\n",
       " ('Support Vector Machine with rbf kernel and C = 0.01',\n",
       "  ['SVM',\n",
       "   'blue',\n",
       "   22.173281567187193,\n",
       "   0.37991203288450714,\n",
       "   0.3707124824104039]),\n",
       " ('Support Vector Machine with poly kernel and C = 0.01',\n",
       "  ['SVM',\n",
       "   'blue',\n",
       "   27.467815825013034,\n",
       "   0.23184748164474056,\n",
       "   0.20771245579800512]),\n",
       " ('Support Vector Machine with poly kernel and C = 0.1',\n",
       "  ['SVM',\n",
       "   'blue',\n",
       "   27.573033209476375,\n",
       "   0.2289050198427116,\n",
       "   0.20195783578126836]),\n",
       " ('Support Vector Machine with poly kernel and C = 1',\n",
       "  ['SVM', 'blue', 27.581640753380388, 0.2286643051616155, 0.2016923392507035]),\n",
       " ('Support Vector Machine with poly kernel and C = 10',\n",
       "  ['SVM',\n",
       "   'blue',\n",
       "   27.58690455584744,\n",
       "   0.22851710004174186,\n",
       "   0.20143627359850969])]"
      ]
     },
     "execution_count": 56,
     "metadata": {},
     "output_type": "execute_result"
    }
   ],
   "execution_count": 56
  },
  {
   "metadata": {},
   "cell_type": "markdown",
   "source": "### Decision Tree"
  },
  {
   "metadata": {
    "ExecuteTime": {
     "end_time": "2024-05-08T02:50:44.442575Z",
     "start_time": "2024-05-08T02:50:44.367626Z"
    }
   },
   "cell_type": "code",
   "source": [
    "models_local = dict()\n",
    "model = DecisionTreeRegressor(random_state=random_state)\n",
    "models_local['Decision Tree'] = [model, 'Decision Tree', 'pink', *train(model)]\n",
    "models |= models_local\n",
    "show_metrics(models_local)"
   ],
   "outputs": [
    {
     "data": {
      "text/plain": [
       "[('Decision Tree',\n",
       "  ['Decision Tree',\n",
       "   'pink',\n",
       "   35.28473132676173,\n",
       "   0.013243156980142667,\n",
       "   0.04929894078944308])]"
      ]
     },
     "execution_count": 57,
     "metadata": {},
     "output_type": "execute_result"
    }
   ],
   "execution_count": 57
  },
  {
   "metadata": {},
   "cell_type": "markdown",
   "source": "### Random Forest"
  },
  {
   "metadata": {
    "ExecuteTime": {
     "end_time": "2024-05-08T02:52:07.161513Z",
     "start_time": "2024-05-08T02:50:44.443378Z"
    }
   },
   "cell_type": "code",
   "source": [
    "models_local = dict()\n",
    "for n_estimators in tqdm([100, 250, 500, 1000]):\n",
    "    model = RandomForestRegressor(n_estimators=n_estimators, random_state=random_state)\n",
    "    models_local[f'Random Forest with {n_estimators} Estimators'] = [model, 'Random Forest', 'purple', *train(model)]\n",
    "models |= models_local\n",
    "show_metrics(models_local)"
   ],
   "outputs": [
    {
     "name": "stderr",
     "output_type": "stream",
     "text": [
      "100%|██████████| 4/4 [01:22<00:00, 20.68s/it]\n"
     ]
    },
    {
     "data": {
      "text/plain": [
       "[('Random Forest with 1000 Estimators',\n",
       "  ['Random Forest',\n",
       "   'purple',\n",
       "   19.96406417682228,\n",
       "   0.4416940075713218,\n",
       "   0.4424888880542225]),\n",
       " ('Random Forest with 500 Estimators',\n",
       "  ['Random Forest',\n",
       "   'purple',\n",
       "   19.98665576728515,\n",
       "   0.4410622213667593,\n",
       "   0.43910607923561407]),\n",
       " ('Random Forest with 250 Estimators',\n",
       "  ['Random Forest',\n",
       "   'purple',\n",
       "   20.049082896403814,\n",
       "   0.43931641249896725,\n",
       "   0.4359208978188984]),\n",
       " ('Random Forest with 100 Estimators',\n",
       "  ['Random Forest',\n",
       "   'purple',\n",
       "   20.23745546420591,\n",
       "   0.43404847043658956,\n",
       "   0.4326912754556158])]"
      ]
     },
     "execution_count": 58,
     "metadata": {},
     "output_type": "execute_result"
    }
   ],
   "execution_count": 58
  },
  {
   "metadata": {},
   "cell_type": "markdown",
   "source": ""
  },
  {
   "metadata": {},
   "cell_type": "markdown",
   "source": "## Ensemble"
  },
  {
   "metadata": {},
   "cell_type": "markdown",
   "source": "### Gather Models to Ensemble"
  },
  {
   "metadata": {},
   "cell_type": "markdown",
   "source": "Find the best models for each model types."
  },
  {
   "metadata": {
    "ExecuteTime": {
     "end_time": "2024-05-08T02:52:07.169636Z",
     "start_time": "2024-05-08T02:52:07.162742Z"
    }
   },
   "cell_type": "code",
   "source": [
    "best_models = dict()\n",
    "best_models_with_r2 = dict()\n",
    "for model_name, model_info in models.items():\n",
    "    model_type = model_info[1]\n",
    "    model_r2_valid = model_info[5]\n",
    "    if model_type not in best_models_with_r2 or model_r2_valid > best_models_with_r2[model_type]:\n",
    "        best_models_with_r2[model_type] = model_r2_valid\n",
    "        best_models[model_type] = model_info[0]\n",
    "best_models"
   ],
   "outputs": [
    {
     "data": {
      "text/plain": [
       "{'K-Nearest': KNeighborsRegressor(n_neighbors=50),\n",
       " 'Regression': Pipeline(steps=[('polynomialfeatures', PolynomialFeatures(degree=4)),\n",
       "                 ('linearregression', LinearRegression())]),\n",
       " 'SVM': SVR(C=10),\n",
       " 'Decision Tree': DecisionTreeRegressor(random_state=42),\n",
       " 'Random Forest': RandomForestRegressor(n_estimators=1000, random_state=42)}"
      ]
     },
     "execution_count": 59,
     "metadata": {},
     "output_type": "execute_result"
    }
   ],
   "execution_count": 59
  },
  {
   "metadata": {
    "ExecuteTime": {
     "end_time": "2024-05-08T02:52:07.173111Z",
     "start_time": "2024-05-08T02:52:07.170248Z"
    }
   },
   "cell_type": "code",
   "source": [
    "best_models.pop('Decision Tree')\n",
    "best_models.pop('Random Forest')\n",
    "best_models"
   ],
   "outputs": [
    {
     "data": {
      "text/plain": [
       "{'K-Nearest': KNeighborsRegressor(n_neighbors=50),\n",
       " 'Regression': Pipeline(steps=[('polynomialfeatures', PolynomialFeatures(degree=4)),\n",
       "                 ('linearregression', LinearRegression())]),\n",
       " 'SVM': SVR(C=10)}"
      ]
     },
     "execution_count": 60,
     "metadata": {},
     "output_type": "execute_result"
    }
   ],
   "execution_count": 60
  },
  {
   "metadata": {
    "ExecuteTime": {
     "end_time": "2024-05-08T02:52:07.177210Z",
     "start_time": "2024-05-08T02:52:07.173898Z"
    }
   },
   "cell_type": "code",
   "source": [
    "class Ensemble:\n",
    "    def __init__(self, _models, method):\n",
    "        self.models = _models\n",
    "        self.method = method\n",
    "    \n",
    "    def fit(self, _X, _y):\n",
    "        for _model in self.models:\n",
    "            _model.fit(_X, _y)\n",
    "        return self\n",
    "    \n",
    "    def predict(self, _X):\n",
    "        _y_pred = np.array([_model.predict(_X) for _model in self.models])\n",
    "        return np.mean(_y_pred, axis=0) if self.method == 'Averaging' \\\n",
    "            else  np.apply_along_axis(lambda row: Counter(row).most_common(1)[0][0], axis=0, arr=_y_pred)  # else voting ensemble"
   ],
   "outputs": [],
   "execution_count": 61
  },
  {
   "metadata": {},
   "cell_type": "markdown",
   "source": "### Averaging Ensemble"
  },
  {
   "metadata": {
    "ExecuteTime": {
     "end_time": "2024-05-08T02:52:28.854347Z",
     "start_time": "2024-05-08T02:52:07.177892Z"
    }
   },
   "cell_type": "code",
   "source": [
    "models_local = dict()\n",
    "model = Ensemble(_models=best_models.values(), method='Averaging')\n",
    "model.fit(X_train_scaled, y_train)\n",
    "y_pred = model.predict(X_test_scaled)\n",
    "models_local['Averaging Ensemble'] = [model, 'Ensemble', 'orange', mean_squared_error(y_test, y_pred), r2_score(y_test, y_pred), np.nan]\n",
    "models |= models_local\n",
    "show_metrics(models_local)"
   ],
   "outputs": [
    {
     "data": {
      "text/plain": [
       "[('Averaging Ensemble',\n",
       "  ['Ensemble', 'orange', 17.278836205061758, 0.5167878789590681, nan])]"
      ]
     },
     "execution_count": 62,
     "metadata": {},
     "output_type": "execute_result"
    }
   ],
   "execution_count": 62
  },
  {
   "metadata": {},
   "cell_type": "markdown",
   "source": "### Voting Ensemble"
  },
  {
   "metadata": {
    "ExecuteTime": {
     "end_time": "2024-05-08T02:52:50.218756Z",
     "start_time": "2024-05-08T02:52:28.855922Z"
    }
   },
   "cell_type": "code",
   "source": [
    "models_local = dict()\n",
    "model = Ensemble(_models=best_models.values(), method='Voting')\n",
    "model.fit(X_train_scaled, y_train)\n",
    "y_pred = model.predict(X_test_scaled)\n",
    "models_local['Voting Ensemble'] = [model, 'Ensemble', 'orange', mean_squared_error(y_test, y_pred), r2_score(y_test, y_pred), np.nan]\n",
    "models |= models_local\n",
    "show_metrics(models_local)"
   ],
   "outputs": [
    {
     "data": {
      "text/plain": [
       "[('Voting Ensemble',\n",
       "  ['Ensemble', 'orange', 17.25880560465116, 0.5173480456737275, nan])]"
      ]
     },
     "execution_count": 63,
     "metadata": {},
     "output_type": "execute_result"
    }
   ],
   "execution_count": 63
  },
  {
   "metadata": {},
   "cell_type": "markdown",
   "source": "<h1 style=\"text-align: center;\">Result Visualization</h1>"
  },
  {
   "metadata": {},
   "cell_type": "markdown",
   "source": "## Gather Metrics"
  },
  {
   "metadata": {
    "ExecuteTime": {
     "end_time": "2024-05-08T02:52:50.224733Z",
     "start_time": "2024-05-08T02:52:50.219934Z"
    }
   },
   "cell_type": "code",
   "source": [
    "metrics = show_metrics(models)\n",
    "model_names = [x[0] for x in metrics]\n",
    "model_types = [x[1][0] for x in metrics]\n",
    "model_type_colors = [x[1][1] for x in metrics]\n",
    "mse_values = [x[1][2] for x in metrics]\n",
    "r2_values = [x[1][3] for x in metrics]\n",
    "metrics"
   ],
   "outputs": [
    {
     "data": {
      "text/plain": [
       "[('Voting Ensemble',\n",
       "  ['Ensemble', 'orange', 17.25880560465116, 0.5173480456737275, nan]),\n",
       " ('K-Nearest Neighbors with N = 100',\n",
       "  ['K-Nearest',\n",
       "   'green',\n",
       "   17.265296598825728,\n",
       "   0.5171665214654109,\n",
       "   0.5173467494425481]),\n",
       " ('Averaging Ensemble',\n",
       "  ['Ensemble', 'orange', 17.278836205061758, 0.5167878789590681, nan]),\n",
       " ('K-Nearest Neighbors with N = 50',\n",
       "  ['K-Nearest',\n",
       "   'green',\n",
       "   17.344936021866207,\n",
       "   0.5149393613679853,\n",
       "   0.5184000599812078]),\n",
       " ('K-Nearest Neighbors with N = 250',\n",
       "  ['K-Nearest',\n",
       "   'green',\n",
       "   17.400004180538613,\n",
       "   0.5133993501404862,\n",
       "   0.5116008389361979]),\n",
       " ('Bayesian ARD Regression with Degree 4',\n",
       "  ['Regression',\n",
       "   'cyan',\n",
       "   17.416950322806137,\n",
       "   0.5129254419876819,\n",
       "   0.5107273434570418]),\n",
       " ('Lasso Regression with Degree 3',\n",
       "  ['Regression',\n",
       "   'cyan',\n",
       "   17.425383043873627,\n",
       "   0.5126896163229895,\n",
       "   0.5097765144362387]),\n",
       " ('Bayesian ARD Regression with Degree 3',\n",
       "  ['Regression',\n",
       "   'cyan',\n",
       "   17.426279670049812,\n",
       "   0.5126645416807373,\n",
       "   0.5101841606331945]),\n",
       " ('Elastic Net with Degree 3',\n",
       "  ['Regression',\n",
       "   'cyan',\n",
       "   17.43163350897638,\n",
       "   0.5125148186419449,\n",
       "   0.5095674876867979]),\n",
       " ('Bayesian Ridge Regression with Degree 3',\n",
       "  ['Regression',\n",
       "   'cyan',\n",
       "   17.433877005843435,\n",
       "   0.5124520780229117,\n",
       "   0.5101314842309064]),\n",
       " ('Ridge Regression with Degree 3',\n",
       "  ['Regression',\n",
       "   'cyan',\n",
       "   17.434062333976932,\n",
       "   0.5124468952201227,\n",
       "   0.5101579804972567]),\n",
       " ('Polynomial Regression with Degree 3',\n",
       "  ['Regression',\n",
       "   'cyan',\n",
       "   17.434062514844936,\n",
       "   0.5124468901620498,\n",
       "   0.5101580038648863]),\n",
       " ('Lasso Regression with Degree 2',\n",
       "  ['Regression',\n",
       "   'cyan',\n",
       "   17.487777069927034,\n",
       "   0.5109447332005534,\n",
       "   0.5066360946091577]),\n",
       " ('Bayesian ARD Regression with Degree 2',\n",
       "  ['Regression',\n",
       "   'cyan',\n",
       "   17.48850382347693,\n",
       "   0.5109244091393637,\n",
       "   0.5068951760852152]),\n",
       " ('Polynomial Regression with Degree 2',\n",
       "  ['Regression',\n",
       "   'cyan',\n",
       "   17.49074794272523,\n",
       "   0.510861651115098,\n",
       "   0.5068999947766538]),\n",
       " ('Ridge Regression with Degree 2',\n",
       "  ['Regression',\n",
       "   'cyan',\n",
       "   17.490748325825788,\n",
       "   0.510861640401481,\n",
       "   0.5068999665314406]),\n",
       " ('Bayesian Ridge Regression with Degree 2',\n",
       "  ['Regression',\n",
       "   'cyan',\n",
       "   17.490973559638025,\n",
       "   0.5108553416145227,\n",
       "   0.5068834731170133]),\n",
       " ('Elastic Net with Degree 2',\n",
       "  ['Regression',\n",
       "   'cyan',\n",
       "   17.49655957401725,\n",
       "   0.5106991256619946,\n",
       "   0.506321797709716]),\n",
       " ('Lasso Regression with Degree 4',\n",
       "  ['Regression',\n",
       "   'cyan',\n",
       "   17.542806432091457,\n",
       "   0.5094058069386556,\n",
       "   0.5136470081877604]),\n",
       " ('Elastic Net with Degree 4',\n",
       "  ['Regression',\n",
       "   'cyan',\n",
       "   17.564576762791425,\n",
       "   0.5087969877133067,\n",
       "   0.5130635150092675]),\n",
       " ('Polynomial Regression with Degree 4',\n",
       "  ['Regression',\n",
       "   'cyan',\n",
       "   17.573222031512138,\n",
       "   0.5085552180370434,\n",
       "   0.5139848064110224]),\n",
       " ('Ridge Regression with Degree 4',\n",
       "  ['Regression',\n",
       "   'cyan',\n",
       "   17.573222210449085,\n",
       "   0.5085552130329738,\n",
       "   0.5139847570014558]),\n",
       " ('Bayesian Ridge Regression with Degree 4',\n",
       "  ['Regression',\n",
       "   'cyan',\n",
       "   17.57366400915718,\n",
       "   0.5085428578900533,\n",
       "   0.513882818063278]),\n",
       " ('K-Nearest Neighbors with N = 25',\n",
       "  ['K-Nearest',\n",
       "   'green',\n",
       "   17.602209736388172,\n",
       "   0.5077445609886739,\n",
       "   0.5125936967352959]),\n",
       " ('Support Vector Machine with rbf kernel and C = 1',\n",
       "  ['SVM', 'blue', 17.792408451528708, 0.5024255497154844, 0.5016784641749399]),\n",
       " ('Support Vector Machine with rbf kernel and C = 10',\n",
       "  ['SVM', 'blue', 17.85302173152824, 0.5007304661320633, 0.503827520786478]),\n",
       " ('Support Vector Machine with rbf kernel and C = 0.1',\n",
       "  ['SVM',\n",
       "   'blue',\n",
       "   18.628584980643733,\n",
       "   0.47904141496224495,\n",
       "   0.4810615640030459]),\n",
       " ('K-Nearest Neighbors with N = 10',\n",
       "  ['K-Nearest',\n",
       "   'green',\n",
       "   18.636439495549812,\n",
       "   0.47882175914963865,\n",
       "   0.4810346649512155]),\n",
       " ('Linear Regression',\n",
       "  ['Regression',\n",
       "   'cyan',\n",
       "   19.457258048269267,\n",
       "   0.4558671186204851,\n",
       "   0.4348573013351428]),\n",
       " ('K-Nearest Neighbors with N = 5',\n",
       "  ['K-Nearest',\n",
       "   'green',\n",
       "   19.96175402583979,\n",
       "   0.44175861220921087,\n",
       "   0.44735685923979684]),\n",
       " ('Random Forest with 1000 Estimators',\n",
       "  ['Random Forest',\n",
       "   'purple',\n",
       "   19.96406417682228,\n",
       "   0.4416940075713218,\n",
       "   0.4424888880542225]),\n",
       " ('Random Forest with 500 Estimators',\n",
       "  ['Random Forest',\n",
       "   'purple',\n",
       "   19.98665576728515,\n",
       "   0.4410622213667593,\n",
       "   0.43910607923561407]),\n",
       " ('Support Vector Machine with linear kernel and C = 0.01',\n",
       "  ['SVM', 'blue', 19.99852227522114, 0.4407303679710186, 0.41406092371931913]),\n",
       " ('Random Forest with 250 Estimators',\n",
       "  ['Random Forest',\n",
       "   'purple',\n",
       "   20.049082896403814,\n",
       "   0.43931641249896725,\n",
       "   0.4359208978188984]),\n",
       " ('Support Vector Machine with linear kernel and C = 0.1',\n",
       "  ['SVM', 'blue', 20.07160925507066, 0.43868645053731925, 0.4118414095843328]),\n",
       " ('Support Vector Machine with linear kernel and C = 1',\n",
       "  ['SVM',\n",
       "   'blue',\n",
       "   20.083798429353546,\n",
       "   0.43834557360040804,\n",
       "   0.4114733466753454]),\n",
       " ('Support Vector Machine with linear kernel and C = 10',\n",
       "  ['SVM',\n",
       "   'blue',\n",
       "   20.084621971327977,\n",
       "   0.4383225427978986,\n",
       "   0.41145032226219447]),\n",
       " ('Random Forest with 100 Estimators',\n",
       "  ['Random Forest',\n",
       "   'purple',\n",
       "   20.23745546420591,\n",
       "   0.43404847043658956,\n",
       "   0.4326912754556158]),\n",
       " ('K-Nearest Neighbors with N = 3',\n",
       "  ['K-Nearest',\n",
       "   'green',\n",
       "   22.145649660254566,\n",
       "   0.38068477430058756,\n",
       "   0.38979590795538255]),\n",
       " ('Support Vector Machine with rbf kernel and C = 0.01',\n",
       "  ['SVM',\n",
       "   'blue',\n",
       "   22.173281567187193,\n",
       "   0.37991203288450714,\n",
       "   0.3707124824104039]),\n",
       " ('Support Vector Machine with poly kernel and C = 0.01',\n",
       "  ['SVM',\n",
       "   'blue',\n",
       "   27.467815825013034,\n",
       "   0.23184748164474056,\n",
       "   0.20771245579800512]),\n",
       " ('Support Vector Machine with poly kernel and C = 0.1',\n",
       "  ['SVM',\n",
       "   'blue',\n",
       "   27.573033209476375,\n",
       "   0.2289050198427116,\n",
       "   0.20195783578126836]),\n",
       " ('Support Vector Machine with poly kernel and C = 1',\n",
       "  ['SVM', 'blue', 27.581640753380388, 0.2286643051616155, 0.2016923392507035]),\n",
       " ('Support Vector Machine with poly kernel and C = 10',\n",
       "  ['SVM',\n",
       "   'blue',\n",
       "   27.58690455584744,\n",
       "   0.22851710004174186,\n",
       "   0.20143627359850969]),\n",
       " ('Decision Tree',\n",
       "  ['Decision Tree',\n",
       "   'pink',\n",
       "   35.28473132676173,\n",
       "   0.013243156980142667,\n",
       "   0.04929894078944308])]"
      ]
     },
     "execution_count": 64,
     "metadata": {},
     "output_type": "execute_result"
    }
   ],
   "execution_count": 64
  },
  {
   "metadata": {},
   "cell_type": "markdown",
   "source": "## Plot"
  },
  {
   "metadata": {
    "ExecuteTime": {
     "end_time": "2024-05-08T02:52:50.740958Z",
     "start_time": "2024-05-08T02:52:50.225583Z"
    }
   },
   "cell_type": "code",
   "source": [
    "_, ax1 = plt.subplots(figsize=(20, 20))\n",
    "\n",
    "# MSEs\n",
    "ax1.barh(model_names, mse_values, color=model_type_colors)\n",
    "ax1.set_xlabel('Mean Squared Error (MSE)')\n",
    "ax1.set_ylabel('Models')\n",
    "ax1.invert_yaxis()\n",
    "\n",
    "# R-Squares\n",
    "ax2 = ax1.twiny()\n",
    "line, = ax2.plot(r2_values, model_names, 'o-', color='r')\n",
    "ax2.set_xlabel('R Square (R²)')\n",
    "\n",
    "# legend for model types\n",
    "handles, labels = list(), list()\n",
    "for model_type, type_color in set(zip(model_types, model_type_colors)):\n",
    "    handles.append(plt.Line2D([0], [0], color=type_color, lw=10))\n",
    "    labels.append(model_type)\n",
    "ax1.legend(handles=handles, labels=labels, loc='upper left')\n",
    "\n",
    "# legend for metrics\n",
    "ax2.legend(\n",
    "    handles=[plt.Line2D([0], [0], color='grey', lw=10), line],\n",
    "    labels=['MSE', 'R²'], loc='lower right'\n",
    ")\n",
    "\n",
    "plt.title('Model Performance Comparison in MSE and R²')\n",
    "plt.draw()"
   ],
   "outputs": [
    {
     "data": {
      "text/plain": [
       "<Figure size 2000x2000 with 2 Axes>"
      ],
      "image/png": "[encoded data removed]"
     },
     "metadata": {},
     "output_type": "display_data"
    }
   ],
   "execution_count": 65
  },
  {
   "metadata": {},
   "cell_type": "markdown",
   "source": "<h1 style=\"text-align: center;\">Insights and Conclusions</h1>"
  },
  {
   "metadata": {},
   "cell_type": "markdown",
   "source": "### About Audiobook"
  },
  {
   "metadata": {},
   "cell_type": "markdown",
   "source": [
    "* Most audiobooks are under 100,000 seconds (27.7 hours), but a few are much longer.  \n",
    "* In the U.S., Audible's most popular audiobooks are in English, with Spanish being the second most common language.  \n",
    "* Audiobooks tend to have high star ratings. It suggests the customers are mostly satisfied.  \n",
    "* Audiobook prices are mainly under 40 dollars, with some between 40 and 60 and a few beyond 60 dollars."
   ]
  },
  {
   "metadata": {},
   "cell_type": "markdown",
   "source": "### About Correlations between Prices and Other Features"
  },
  {
   "metadata": {},
   "cell_type": "markdown",
   "source": [
    "* There is a positive correlation between audiobook lengths and prices as long as the audiobook is not too much lengthy.\n",
    "* The relationship between audiobook ratings and prices is weak, but higher-rated audiobooks still tend to have a higher price."
   ]
  },
  {
   "metadata": {},
   "cell_type": "markdown",
   "source": "### About Applied Machine Learning Techniques"
  },
  {
   "metadata": {},
   "cell_type": "markdown",
   "source": [
    "* The result of machine learning techniques is not ideal. Most of the models result in a $R^2$ score of around 50.\n",
    "* K-Nearest Neighbors and Polynomial Regressions performed very well compared to other models.\n",
    "* Voting Ensemble pushed the performance further, resulting in a best $R^2$ score of 0.517."
   ]
  }
 ],
 "metadata": {
  "kernelspec": {
   "display_name": "Python 3",
   "language": "python",
   "name": "python3"
  },
  "language_info": {
   "codemirror_mode": {
    "name": "ipython",
    "version": 3
   },
   "file_extension": ".py",
   "mimetype": "text/x-python",
   "name": "python",
   "nbconvert_exporter": "python",
   "pygments_lexer": "ipython3",
   "version": "3.12.3"
  }
 },
 "nbformat": 4,
 "nbformat_minor": 2
}
